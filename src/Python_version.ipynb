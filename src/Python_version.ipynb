{
  "cells": [
    {
      "cell_type": "markdown",
      "metadata": {
        "id": "view-in-github",
        "colab_type": "text"
      },
      "source": [
        "<a href=\"https://colab.research.google.com/github/pjgerrits/GISRUK_Dasy/blob/main/src/Python_version.ipynb\" target=\"_parent\"><img src=\"https://colab.research.google.com/assets/colab-badge.svg\" alt=\"Open In Colab\"/></a>"
      ]
    },
    {
      "cell_type": "markdown",
      "id": "037da44e-e1b5-4774-97b8-bf0129fdc452",
      "metadata": {
        "tags": [],
        "id": "037da44e-e1b5-4774-97b8-bf0129fdc452"
      },
      "source": [
        "# Dasymetric Mapping: An Introduction in Python\n",
        "\n",
        "date: March 7, 2022\n",
        "\n",
        "authors:\n",
        "- Jeremiah J. Nieves, Geographic Data Science Lab - University of Liverpool\n",
        "- Martin Fleischmann, Geographic Data Science Lab - University of Liverpool\n",
        "\n",
        "# Overview\n",
        "In this Python-based practical, we will explain what dasymetric disaggregation and modelling is. We will then proceed to walk through the basic procedures of dasymetrically modelling gridded population datasets, from census-based data, and some of the procedures to get the gridded population data ready for further uses. We will also briefly cover an \"intelligent\" dasymetric disaggregation which utilises machine learning to inform the redistribution of population into grids and explore potential ways of integrating other statistical modelling engines, various parameterisations, and niche applications.\n",
        "\n",
        "## Objectives\n",
        " - Understand the differences between a \"people per pixel\" (ppp) and a \"people per Hectare\" (pph) gridded population dataset and acquire the skills to change between these population count (ppp) and population density (pph) datasets\n",
        "\n",
        " - Learn about dasymetric disaggregation of count data and the use of \"intelligent\" dasymetric disaggregation as applied to gridded population modelling.\n",
        " \n",
        "## Prerequisites\n",
        "Basic literacy with computers with regards to folder and file navigation, unzipping compressed folders, and basic familiarity with Python, such as running a command in the interactive window or Jupyter notebook.\n",
        "\n",
        "# Preparation\n",
        "Open up the `../GISRUK_Dasy/` folder and familiarize yourself with the structure and layout as the remainder of the instructions make reference to these folders and the files contained within them. Here the `..` refers to the directory where you have the unzipped workshop folder (`C:/Users/Jeremiah/Desktop/` in the example of Figure 1).\n",
        "\n",
        "\n",
        "- `../GISRUK_Dasy/data/` contains the data we will be using throughout this exercise\n",
        "- `../GISRUK_Dasy/output/` is where we will place our finalized, desirable output data\n",
        "- `../GISRUK_Dasy/src/` contains the source for notebooks\n",
        "\n",
        "![folder](https://github.com/jjniev01/GISRUK_Dasy/blob/main/Figures/figure1.png?raw=1)\n",
        "\n",
        "## Installing Packages\n",
        "We need to install the following packages prior to carrying out the practical exercise. If you have started the notebook on MyBinder, all packages are already installed:\n",
        " \n",
        "- `geopandas`\n",
        "- `rioxarray`\n",
        "- `seaborn`\n",
        "- `geocube` \n",
        "\n",
        "How to do that depends on your choice of a package maanager. Since we're dealing with relatively complex packages, we recommend `conda`.\n",
        "\n",
        "```sh\n",
        "conda install geopandas rioxarray seaborn geocube -c conda-forge\n",
        "```\n",
        "\n",
        "Alternatively, you may use `pip` but be careful to properly install all C-based dependencies as GDAL and GEOS. You should use this if you are using Google Colab.\n",
        "\n",
        "```sh\n",
        "pip install geopandas rioxarray seaborn geocube\n",
        "```\n",
        "\n",
        "From here on through the rest of the practical, you can either type the given commands in the interactive window, type them in a new script and running it line by line by highlighting each line and hitting `Shift+Enter`, or in the provided interactive code blocks within the Jupyter notebook (`.ipynb`) document. The Jupyter Notebook (`GISRUK_2022_Training.ipynb`) is available in the `../GISRUK_2022_Training/GISRUK_Dasy/` folder. Typing the commands in your own script will allow you to save the script for later reference and allow you to type comments by preceding your text with a `#`. \n",
        "\n",
        "Once the packages have been successfully installed, load the packages:"
      ]
    },
    {
      "cell_type": "code",
      "execution_count": 3,
      "id": "a82eaf22-35d5-41ba-8869-55bc225e0e40",
      "metadata": {
        "id": "a82eaf22-35d5-41ba-8869-55bc225e0e40",
        "outputId": "7cf1508c-c562-42bb-fb5c-f6e26c4df888",
        "colab": {
          "base_uri": "https://localhost:8080/"
        }
      },
      "outputs": [
        {
          "output_type": "stream",
          "name": "stdout",
          "text": [
            "Collecting geopandas\n",
            "  Downloading geopandas-0.10.2-py2.py3-none-any.whl (1.0 MB)\n",
            "\u001b[K     |████████████████████████████████| 1.0 MB 5.2 MB/s \n",
            "\u001b[?25hCollecting rioxarray\n",
            "  Downloading rioxarray-0.9.1.tar.gz (47 kB)\n",
            "\u001b[K     |████████████████████████████████| 47 kB 3.1 MB/s \n",
            "\u001b[?25h  Installing build dependencies ... \u001b[?25l\u001b[?25hdone\n",
            "  Getting requirements to build wheel ... \u001b[?25l\u001b[?25hdone\n",
            "    Preparing wheel metadata ... \u001b[?25l\u001b[?25hdone\n",
            "Requirement already satisfied: seaborn in /usr/local/lib/python3.7/dist-packages (0.11.2)\n",
            "Collecting geocube\n",
            "  Downloading geocube-0.1.0.tar.gz (17 kB)\n",
            "Requirement already satisfied: pandas>=0.25.0 in /usr/local/lib/python3.7/dist-packages (from geopandas) (1.3.5)\n",
            "Collecting fiona>=1.8\n",
            "  Downloading Fiona-1.8.21-cp37-cp37m-manylinux2014_x86_64.whl (16.7 MB)\n",
            "\u001b[K     |████████████████████████████████| 16.7 MB 415 kB/s \n",
            "\u001b[?25hRequirement already satisfied: shapely>=1.6 in /usr/local/lib/python3.7/dist-packages (from geopandas) (1.8.1.post1)\n",
            "Collecting pyproj>=2.2.0\n",
            "  Downloading pyproj-3.2.1-cp37-cp37m-manylinux2010_x86_64.whl (6.3 MB)\n",
            "\u001b[K     |████████████████████████████████| 6.3 MB 39.7 MB/s \n",
            "\u001b[?25hCollecting click-plugins>=1.0\n",
            "  Downloading click_plugins-1.1.1-py2.py3-none-any.whl (7.5 kB)\n",
            "Requirement already satisfied: certifi in /usr/local/lib/python3.7/dist-packages (from fiona>=1.8->geopandas) (2021.10.8)\n",
            "Requirement already satisfied: attrs>=17 in /usr/local/lib/python3.7/dist-packages (from fiona>=1.8->geopandas) (21.4.0)\n",
            "Collecting munch\n",
            "  Downloading munch-2.5.0-py2.py3-none-any.whl (10 kB)\n",
            "Requirement already satisfied: six>=1.7 in /usr/local/lib/python3.7/dist-packages (from fiona>=1.8->geopandas) (1.15.0)\n",
            "Collecting cligj>=0.5\n",
            "  Downloading cligj-0.7.2-py3-none-any.whl (7.1 kB)\n",
            "Requirement already satisfied: click>=4.0 in /usr/local/lib/python3.7/dist-packages (from fiona>=1.8->geopandas) (7.1.2)\n",
            "Requirement already satisfied: setuptools in /usr/local/lib/python3.7/dist-packages (from fiona>=1.8->geopandas) (57.4.0)\n",
            "Requirement already satisfied: pytz>=2017.3 in /usr/local/lib/python3.7/dist-packages (from pandas>=0.25.0->geopandas) (2018.9)\n",
            "Requirement already satisfied: python-dateutil>=2.7.3 in /usr/local/lib/python3.7/dist-packages (from pandas>=0.25.0->geopandas) (2.8.2)\n",
            "Requirement already satisfied: numpy>=1.17.3 in /usr/local/lib/python3.7/dist-packages (from pandas>=0.25.0->geopandas) (1.21.5)\n",
            "Requirement already satisfied: packaging in /usr/local/lib/python3.7/dist-packages (from rioxarray) (21.3)\n",
            "Collecting rasterio\n",
            "  Downloading rasterio-1.2.10-cp37-cp37m-manylinux1_x86_64.whl (19.3 MB)\n",
            "\u001b[K     |████████████████████████████████| 19.3 MB 325 kB/s \n",
            "\u001b[?25hRequirement already satisfied: xarray>=0.17 in /usr/local/lib/python3.7/dist-packages (from rioxarray) (0.18.2)\n",
            "Requirement already satisfied: matplotlib>=2.2 in /usr/local/lib/python3.7/dist-packages (from seaborn) (3.2.2)\n",
            "Requirement already satisfied: scipy>=1.0 in /usr/local/lib/python3.7/dist-packages (from seaborn) (1.4.1)\n",
            "Requirement already satisfied: cycler>=0.10 in /usr/local/lib/python3.7/dist-packages (from matplotlib>=2.2->seaborn) (0.11.0)\n",
            "Requirement already satisfied: pyparsing!=2.0.4,!=2.1.2,!=2.1.6,>=2.0.1 in /usr/local/lib/python3.7/dist-packages (from matplotlib>=2.2->seaborn) (3.0.7)\n",
            "Requirement already satisfied: kiwisolver>=1.0.1 in /usr/local/lib/python3.7/dist-packages (from matplotlib>=2.2->seaborn) (1.4.0)\n",
            "Requirement already satisfied: typing-extensions in /usr/local/lib/python3.7/dist-packages (from kiwisolver>=1.0.1->matplotlib>=2.2->seaborn) (3.10.0.2)\n",
            "Requirement already satisfied: appdirs in /usr/local/lib/python3.7/dist-packages (from geocube) (1.4.4)\n",
            "Collecting datacube\n",
            "  Downloading datacube-1.8.5-py2.py3-none-any.whl (271 kB)\n",
            "\u001b[K     |████████████████████████████████| 271 kB 43.4 MB/s \n",
            "\u001b[?25hRequirement already satisfied: cachetools in /usr/local/lib/python3.7/dist-packages (from datacube->geocube) (4.2.4)\n",
            "Requirement already satisfied: distributed in /usr/local/lib/python3.7/dist-packages (from datacube->geocube) (1.25.3)\n",
            "Requirement already satisfied: psycopg2 in /usr/local/lib/python3.7/dist-packages (from datacube->geocube) (2.7.6.1)\n",
            "Requirement already satisfied: dask[array] in /usr/local/lib/python3.7/dist-packages (from datacube->geocube) (2.12.0)\n",
            "Collecting lark-parser>=0.6.7\n",
            "  Downloading lark_parser-0.12.0-py2.py3-none-any.whl (103 kB)\n",
            "\u001b[K     |████████████████████████████████| 103 kB 26.9 MB/s \n",
            "\u001b[?25hRequirement already satisfied: toolz in /usr/local/lib/python3.7/dist-packages (from datacube->geocube) (0.11.2)\n",
            "Requirement already satisfied: pyyaml in /usr/local/lib/python3.7/dist-packages (from datacube->geocube) (3.13)\n",
            "Requirement already satisfied: netcdf4 in /usr/local/lib/python3.7/dist-packages (from datacube->geocube) (1.5.8)\n",
            "Collecting affine\n",
            "  Downloading affine-2.3.1-py2.py3-none-any.whl (16 kB)\n",
            "Requirement already satisfied: sqlalchemy in /usr/local/lib/python3.7/dist-packages (from datacube->geocube) (1.4.32)\n",
            "Requirement already satisfied: jsonschema in /usr/local/lib/python3.7/dist-packages (from datacube->geocube) (4.3.3)\n",
            "Requirement already satisfied: cloudpickle>=0.4 in /usr/local/lib/python3.7/dist-packages (from datacube->geocube) (1.3.0)\n",
            "Collecting snuggs>=1.4.1\n",
            "  Downloading snuggs-1.4.7-py3-none-any.whl (5.4 kB)\n",
            "Requirement already satisfied: tornado>=4.5.1 in /usr/local/lib/python3.7/dist-packages (from distributed->datacube->geocube) (5.1.1)\n",
            "Requirement already satisfied: psutil>=5.0 in /usr/local/lib/python3.7/dist-packages (from distributed->datacube->geocube) (5.4.8)\n",
            "Requirement already satisfied: zict>=0.1.3 in /usr/local/lib/python3.7/dist-packages (from distributed->datacube->geocube) (2.1.0)\n",
            "Requirement already satisfied: msgpack in /usr/local/lib/python3.7/dist-packages (from distributed->datacube->geocube) (1.0.3)\n",
            "Requirement already satisfied: tblib in /usr/local/lib/python3.7/dist-packages (from distributed->datacube->geocube) (1.7.0)\n",
            "Requirement already satisfied: sortedcontainers!=2.0.0,!=2.0.1 in /usr/local/lib/python3.7/dist-packages (from distributed->datacube->geocube) (2.4.0)\n",
            "Requirement already satisfied: heapdict in /usr/local/lib/python3.7/dist-packages (from zict>=0.1.3->distributed->datacube->geocube) (1.0.1)\n",
            "Requirement already satisfied: importlib-resources>=1.4.0 in /usr/local/lib/python3.7/dist-packages (from jsonschema->datacube->geocube) (5.4.0)\n",
            "Requirement already satisfied: importlib-metadata in /usr/local/lib/python3.7/dist-packages (from jsonschema->datacube->geocube) (4.11.3)\n",
            "Requirement already satisfied: pyrsistent!=0.17.0,!=0.17.1,!=0.17.2,>=0.14.0 in /usr/local/lib/python3.7/dist-packages (from jsonschema->datacube->geocube) (0.18.1)\n",
            "Requirement already satisfied: zipp>=3.1.0 in /usr/local/lib/python3.7/dist-packages (from importlib-resources>=1.4.0->jsonschema->datacube->geocube) (3.7.0)\n",
            "Requirement already satisfied: cftime in /usr/local/lib/python3.7/dist-packages (from netcdf4->datacube->geocube) (1.6.0)\n",
            "Requirement already satisfied: greenlet!=0.4.17 in /usr/local/lib/python3.7/dist-packages (from sqlalchemy->datacube->geocube) (1.1.2)\n",
            "Building wheels for collected packages: rioxarray, geocube\n",
            "  Building wheel for rioxarray (PEP 517) ... \u001b[?25l\u001b[?25hdone\n",
            "  Created wheel for rioxarray: filename=rioxarray-0.9.1-py3-none-any.whl size=54611 sha256=300cb21deb5be0fa3f26e2d72a6e4ccefa6c4ac9c33c67eb0482cd6995c59367\n",
            "  Stored in directory: /root/.cache/pip/wheels/07/da/9e/1cc57b2e7a29a206893db83e984a341e2e94378263e0798229\n",
            "  Building wheel for geocube (setup.py) ... \u001b[?25l\u001b[?25hdone\n",
            "  Created wheel for geocube: filename=geocube-0.1.0-py3-none-any.whl size=21499 sha256=a000bc300ec00f1932725667f509af04d23e05f7b885085d751814c029591ab2\n",
            "  Stored in directory: /root/.cache/pip/wheels/86/c2/4c/2a0804a69bfb6e069eda5896eb995eb2f1aee234d25599ef0f\n",
            "Successfully built rioxarray geocube\n",
            "Installing collected packages: snuggs, munch, cligj, click-plugins, affine, rasterio, pyproj, lark-parser, fiona, rioxarray, geopandas, datacube, geocube\n",
            "Successfully installed affine-2.3.1 click-plugins-1.1.1 cligj-0.7.2 datacube-1.8.5 fiona-1.8.21 geocube-0.1.0 geopandas-0.10.2 lark-parser-0.12.0 munch-2.5.0 pyproj-3.2.1 rasterio-1.2.10 rioxarray-0.9.1 snuggs-1.4.7\n"
          ]
        }
      ],
      "source": [
        "# Google Colab environment preparation (uncomment and run the following line)\n",
        "!pip install geopandas rioxarray seaborn geocube"
      ]
    },
    {
      "cell_type": "code",
      "execution_count": 6,
      "id": "e539ad9e-1da0-4bfe-bc28-f9fe514c9801",
      "metadata": {
        "id": "e539ad9e-1da0-4bfe-bc28-f9fe514c9801"
      },
      "outputs": [],
      "source": [
        "import geopandas\n",
        "import rioxarray\n",
        "import seaborn\n",
        "import xarray\n",
        "import matplotlib.pyplot as plt\n",
        "\n",
        "from geocube.api.core import make_geocube"
      ]
    },
    {
      "cell_type": "markdown",
      "id": "17b11d74-6bc5-4fb6-ba75-c4691d19f551",
      "metadata": {
        "id": "17b11d74-6bc5-4fb6-ba75-c4691d19f551"
      },
      "source": [
        "# Understanding Gridded Population Datasets\n",
        "There are numerous gridded population datasets with global coverage that are produced. The [popgrid consortiuum](popgrid.org) is a collaborative group of such data producers. Leyk et al. [-@Leyk2019)]gives a peer-reviewed assessment of many of these and talks about how each has different application purposes for which they are best suited. However, there are even more peer-reviewed gridded population datasets being produced every day, such as Palacios-Lopez *et al.* [-@Palacios-Lopez2022].\n",
        "\n",
        "Regardless of the method of production the format of most of these gridded data are either in a people per pixel (ppp) format, where each pixel represents the number of people in the pixel in an *unprojected* raster (i.e. latitude and longitude), or represents population density format, where each (typically) *projected* pixel represents the number of people for a given normalising area. \n",
        "\n",
        "A commonly used gridded population dataset producer is [WorldPop](worldpop.org). They typically produce their datasets as ppp and people per hectare (pph), the latter being a population density measure.\n",
        "For instance, while not always the case, pph is  presented in pixels that have an area of a hectare (approximately a 100m x 100m pixel). However, there is nothing stopping a people per km density in a 100m x 100m pixel. Therefore it is very important that you understand how the data is made and what units are inferred on the values within your gridded dataset!\n",
        "\n",
        "Sticking with the WorldPop ppp and pph data example, these two datasets should look identical when opened in a GIS, but only because the density measure matches the resolution of the projected raster for pph. Again, the ppp datasets are *unprojected*, i.e. uses the wGS 84 geographic coordinate system and position is given in degrees of latitude and longitude. Conversely, the pph datasets are *projected* in an equal area coordinate system of meters from a specified origin, in most cases a Universal Transverse Mercator (UTM) projection, that is appropriate for the given country.\n",
        "\n",
        "We’ll explore some of these differences with some data from Rwanda (three-letter iso code of \"RWA\").\n",
        "\n",
        "## Spatial Characteristics of ppp and pph\n",
        "In the `../data/SectionI/` folder lies our example population data rasters. Open the `RWA_pph_2002_v2.tif` and the `RWA_ppp_2002_v2.tif` population rasters You can now view the raster datasets interactively if you type (one command at a time):\n",
        "using the following two commands:\n"
      ]
    },
    {
      "cell_type": "code",
      "execution_count": 7,
      "id": "73064cf5-8727-43f4-863f-d334f6371900",
      "metadata": {
        "id": "73064cf5-8727-43f4-863f-d334f6371900",
        "outputId": "d8c023c4-6a5d-4c01-fe70-588161a1f1df",
        "colab": {
          "base_uri": "https://localhost:8080/",
          "height": 658
        }
      },
      "outputs": [
        {
          "output_type": "error",
          "ename": "RasterioIOError",
          "evalue": "ignored",
          "traceback": [
            "\u001b[0;31m---------------------------------------------------------------------------\u001b[0m",
            "\u001b[0;31mKeyError\u001b[0m                                  Traceback (most recent call last)",
            "\u001b[0;32m/usr/local/lib/python3.7/dist-packages/xarray/backends/file_manager.py\u001b[0m in \u001b[0;36m_acquire_with_cache_info\u001b[0;34m(self, needs_lock)\u001b[0m\n\u001b[1;32m    198\u001b[0m             \u001b[0;32mtry\u001b[0m\u001b[0;34m:\u001b[0m\u001b[0;34m\u001b[0m\u001b[0;34m\u001b[0m\u001b[0m\n\u001b[0;32m--> 199\u001b[0;31m                 \u001b[0mfile\u001b[0m \u001b[0;34m=\u001b[0m \u001b[0mself\u001b[0m\u001b[0;34m.\u001b[0m\u001b[0m_cache\u001b[0m\u001b[0;34m[\u001b[0m\u001b[0mself\u001b[0m\u001b[0;34m.\u001b[0m\u001b[0m_key\u001b[0m\u001b[0;34m]\u001b[0m\u001b[0;34m\u001b[0m\u001b[0;34m\u001b[0m\u001b[0m\n\u001b[0m\u001b[1;32m    200\u001b[0m             \u001b[0;32mexcept\u001b[0m \u001b[0mKeyError\u001b[0m\u001b[0;34m:\u001b[0m\u001b[0;34m\u001b[0m\u001b[0;34m\u001b[0m\u001b[0m\n",
            "\u001b[0;32m/usr/local/lib/python3.7/dist-packages/xarray/backends/lru_cache.py\u001b[0m in \u001b[0;36m__getitem__\u001b[0;34m(self, key)\u001b[0m\n\u001b[1;32m     52\u001b[0m         \u001b[0;32mwith\u001b[0m \u001b[0mself\u001b[0m\u001b[0;34m.\u001b[0m\u001b[0m_lock\u001b[0m\u001b[0;34m:\u001b[0m\u001b[0;34m\u001b[0m\u001b[0;34m\u001b[0m\u001b[0m\n\u001b[0;32m---> 53\u001b[0;31m             \u001b[0mvalue\u001b[0m \u001b[0;34m=\u001b[0m \u001b[0mself\u001b[0m\u001b[0;34m.\u001b[0m\u001b[0m_cache\u001b[0m\u001b[0;34m[\u001b[0m\u001b[0mkey\u001b[0m\u001b[0;34m]\u001b[0m\u001b[0;34m\u001b[0m\u001b[0;34m\u001b[0m\u001b[0m\n\u001b[0m\u001b[1;32m     54\u001b[0m             \u001b[0mself\u001b[0m\u001b[0;34m.\u001b[0m\u001b[0m_cache\u001b[0m\u001b[0;34m.\u001b[0m\u001b[0mmove_to_end\u001b[0m\u001b[0;34m(\u001b[0m\u001b[0mkey\u001b[0m\u001b[0;34m)\u001b[0m\u001b[0;34m\u001b[0m\u001b[0;34m\u001b[0m\u001b[0m\n",
            "\u001b[0;31mKeyError\u001b[0m: [<function open at 0x7fdd342fef80>, ('../data/SectionI/RWA_ppp_2002_v2.tif',), 'r', (('sharing', False),)]",
            "\nDuring handling of the above exception, another exception occurred:\n",
            "\u001b[0;31mCPLE_OpenFailedError\u001b[0m                      Traceback (most recent call last)",
            "\u001b[0;32mrasterio/_base.pyx\u001b[0m in \u001b[0;36mrasterio._base.DatasetBase.__init__\u001b[0;34m()\u001b[0m\n",
            "\u001b[0;32mrasterio/_shim.pyx\u001b[0m in \u001b[0;36mrasterio._shim.open_dataset\u001b[0;34m()\u001b[0m\n",
            "\u001b[0;32mrasterio/_err.pyx\u001b[0m in \u001b[0;36mrasterio._err.exc_wrap_pointer\u001b[0;34m()\u001b[0m\n",
            "\u001b[0;31mCPLE_OpenFailedError\u001b[0m: ../data/SectionI/RWA_ppp_2002_v2.tif: No such file or directory",
            "\nDuring handling of the above exception, another exception occurred:\n",
            "\u001b[0;31mRasterioIOError\u001b[0m                           Traceback (most recent call last)",
            "\u001b[0;32m<ipython-input-7-986c0e628a77>\u001b[0m in \u001b[0;36m<module>\u001b[0;34m()\u001b[0m\n\u001b[0;32m----> 1\u001b[0;31m \u001b[0mppp\u001b[0m \u001b[0;34m=\u001b[0m \u001b[0mrioxarray\u001b[0m\u001b[0;34m.\u001b[0m\u001b[0mopen_rasterio\u001b[0m\u001b[0;34m(\u001b[0m\u001b[0;34m\"../data/SectionI/RWA_ppp_2002_v2.tif\"\u001b[0m\u001b[0;34m,\u001b[0m \u001b[0mmasked\u001b[0m\u001b[0;34m=\u001b[0m\u001b[0;32mTrue\u001b[0m\u001b[0;34m)\u001b[0m\u001b[0;34m\u001b[0m\u001b[0;34m\u001b[0m\u001b[0m\n\u001b[0m\u001b[1;32m      2\u001b[0m \u001b[0mpph\u001b[0m \u001b[0;34m=\u001b[0m \u001b[0mrioxarray\u001b[0m\u001b[0;34m.\u001b[0m\u001b[0mopen_rasterio\u001b[0m\u001b[0;34m(\u001b[0m\u001b[0;34m\"../data/SectionI/RWA_pph_2002_v2.tif\"\u001b[0m\u001b[0;34m,\u001b[0m \u001b[0mmasked\u001b[0m\u001b[0;34m=\u001b[0m\u001b[0;32mTrue\u001b[0m\u001b[0;34m)\u001b[0m\u001b[0;34m\u001b[0m\u001b[0;34m\u001b[0m\u001b[0m\n",
            "\u001b[0;32m/usr/local/lib/python3.7/dist-packages/rioxarray/_io.py\u001b[0m in \u001b[0;36mopen_rasterio\u001b[0;34m(filename, parse_coordinates, chunks, cache, lock, masked, mask_and_scale, variable, group, default_name, decode_times, decode_timedelta, **open_kwargs)\u001b[0m\n\u001b[1;32m    831\u001b[0m         \u001b[0;32melse\u001b[0m\u001b[0;34m:\u001b[0m\u001b[0;34m\u001b[0m\u001b[0;34m\u001b[0m\u001b[0m\n\u001b[1;32m    832\u001b[0m             \u001b[0mmanager\u001b[0m \u001b[0;34m=\u001b[0m \u001b[0mURIManager\u001b[0m\u001b[0;34m(\u001b[0m\u001b[0mrasterio\u001b[0m\u001b[0;34m.\u001b[0m\u001b[0mopen\u001b[0m\u001b[0;34m,\u001b[0m \u001b[0mfilename\u001b[0m\u001b[0;34m,\u001b[0m \u001b[0mmode\u001b[0m\u001b[0;34m=\u001b[0m\u001b[0;34m\"r\"\u001b[0m\u001b[0;34m,\u001b[0m \u001b[0mkwargs\u001b[0m\u001b[0;34m=\u001b[0m\u001b[0mopen_kwargs\u001b[0m\u001b[0;34m)\u001b[0m\u001b[0;34m\u001b[0m\u001b[0;34m\u001b[0m\u001b[0m\n\u001b[0;32m--> 833\u001b[0;31m         \u001b[0mriods\u001b[0m \u001b[0;34m=\u001b[0m \u001b[0mmanager\u001b[0m\u001b[0;34m.\u001b[0m\u001b[0macquire\u001b[0m\u001b[0;34m(\u001b[0m\u001b[0;34m)\u001b[0m\u001b[0;34m\u001b[0m\u001b[0;34m\u001b[0m\u001b[0m\n\u001b[0m\u001b[1;32m    834\u001b[0m         \u001b[0mcaptured_warnings\u001b[0m \u001b[0;34m=\u001b[0m \u001b[0mrio_warnings\u001b[0m\u001b[0;34m.\u001b[0m\u001b[0mcopy\u001b[0m\u001b[0;34m(\u001b[0m\u001b[0;34m)\u001b[0m\u001b[0;34m\u001b[0m\u001b[0;34m\u001b[0m\u001b[0m\n\u001b[1;32m    835\u001b[0m \u001b[0;34m\u001b[0m\u001b[0m\n",
            "\u001b[0;32m/usr/local/lib/python3.7/dist-packages/xarray/backends/file_manager.py\u001b[0m in \u001b[0;36macquire\u001b[0;34m(self, needs_lock)\u001b[0m\n\u001b[1;32m    179\u001b[0m             \u001b[0mAn\u001b[0m \u001b[0mopen\u001b[0m \u001b[0mfile\u001b[0m \u001b[0mobject\u001b[0m\u001b[0;34m,\u001b[0m \u001b[0;32mas\u001b[0m \u001b[0mreturned\u001b[0m \u001b[0mby\u001b[0m\u001b[0;31m \u001b[0m\u001b[0;31m`\u001b[0m\u001b[0;31m`\u001b[0m\u001b[0mopener\u001b[0m\u001b[0;34m(\u001b[0m\u001b[0;34m*\u001b[0m\u001b[0margs\u001b[0m\u001b[0;34m,\u001b[0m \u001b[0;34m**\u001b[0m\u001b[0mkwargs\u001b[0m\u001b[0;34m)\u001b[0m\u001b[0;31m`\u001b[0m\u001b[0;31m`\u001b[0m\u001b[0;34m.\u001b[0m\u001b[0;34m\u001b[0m\u001b[0;34m\u001b[0m\u001b[0m\n\u001b[1;32m    180\u001b[0m         \"\"\"\n\u001b[0;32m--> 181\u001b[0;31m         \u001b[0mfile\u001b[0m\u001b[0;34m,\u001b[0m \u001b[0m_\u001b[0m \u001b[0;34m=\u001b[0m \u001b[0mself\u001b[0m\u001b[0;34m.\u001b[0m\u001b[0m_acquire_with_cache_info\u001b[0m\u001b[0;34m(\u001b[0m\u001b[0mneeds_lock\u001b[0m\u001b[0;34m)\u001b[0m\u001b[0;34m\u001b[0m\u001b[0;34m\u001b[0m\u001b[0m\n\u001b[0m\u001b[1;32m    182\u001b[0m         \u001b[0;32mreturn\u001b[0m \u001b[0mfile\u001b[0m\u001b[0;34m\u001b[0m\u001b[0;34m\u001b[0m\u001b[0m\n\u001b[1;32m    183\u001b[0m \u001b[0;34m\u001b[0m\u001b[0m\n",
            "\u001b[0;32m/usr/local/lib/python3.7/dist-packages/xarray/backends/file_manager.py\u001b[0m in \u001b[0;36m_acquire_with_cache_info\u001b[0;34m(self, needs_lock)\u001b[0m\n\u001b[1;32m    203\u001b[0m                     \u001b[0mkwargs\u001b[0m \u001b[0;34m=\u001b[0m \u001b[0mkwargs\u001b[0m\u001b[0;34m.\u001b[0m\u001b[0mcopy\u001b[0m\u001b[0;34m(\u001b[0m\u001b[0;34m)\u001b[0m\u001b[0;34m\u001b[0m\u001b[0;34m\u001b[0m\u001b[0m\n\u001b[1;32m    204\u001b[0m                     \u001b[0mkwargs\u001b[0m\u001b[0;34m[\u001b[0m\u001b[0;34m\"mode\"\u001b[0m\u001b[0;34m]\u001b[0m \u001b[0;34m=\u001b[0m \u001b[0mself\u001b[0m\u001b[0;34m.\u001b[0m\u001b[0m_mode\u001b[0m\u001b[0;34m\u001b[0m\u001b[0;34m\u001b[0m\u001b[0m\n\u001b[0;32m--> 205\u001b[0;31m                 \u001b[0mfile\u001b[0m \u001b[0;34m=\u001b[0m \u001b[0mself\u001b[0m\u001b[0;34m.\u001b[0m\u001b[0m_opener\u001b[0m\u001b[0;34m(\u001b[0m\u001b[0;34m*\u001b[0m\u001b[0mself\u001b[0m\u001b[0;34m.\u001b[0m\u001b[0m_args\u001b[0m\u001b[0;34m,\u001b[0m \u001b[0;34m**\u001b[0m\u001b[0mkwargs\u001b[0m\u001b[0;34m)\u001b[0m\u001b[0;34m\u001b[0m\u001b[0;34m\u001b[0m\u001b[0m\n\u001b[0m\u001b[1;32m    206\u001b[0m                 \u001b[0;32mif\u001b[0m \u001b[0mself\u001b[0m\u001b[0;34m.\u001b[0m\u001b[0m_mode\u001b[0m \u001b[0;34m==\u001b[0m \u001b[0;34m\"w\"\u001b[0m\u001b[0;34m:\u001b[0m\u001b[0;34m\u001b[0m\u001b[0;34m\u001b[0m\u001b[0m\n\u001b[1;32m    207\u001b[0m                     \u001b[0;31m# ensure file doesn't get overriden when opened again\u001b[0m\u001b[0;34m\u001b[0m\u001b[0;34m\u001b[0m\u001b[0;34m\u001b[0m\u001b[0m\n",
            "\u001b[0;32m/usr/local/lib/python3.7/dist-packages/rasterio/env.py\u001b[0m in \u001b[0;36mwrapper\u001b[0;34m(*args, **kwds)\u001b[0m\n\u001b[1;32m    435\u001b[0m \u001b[0;34m\u001b[0m\u001b[0m\n\u001b[1;32m    436\u001b[0m         \u001b[0;32mwith\u001b[0m \u001b[0menv_ctor\u001b[0m\u001b[0;34m(\u001b[0m\u001b[0msession\u001b[0m\u001b[0;34m=\u001b[0m\u001b[0msession\u001b[0m\u001b[0;34m)\u001b[0m\u001b[0;34m:\u001b[0m\u001b[0;34m\u001b[0m\u001b[0;34m\u001b[0m\u001b[0m\n\u001b[0;32m--> 437\u001b[0;31m             \u001b[0;32mreturn\u001b[0m \u001b[0mf\u001b[0m\u001b[0;34m(\u001b[0m\u001b[0;34m*\u001b[0m\u001b[0margs\u001b[0m\u001b[0;34m,\u001b[0m \u001b[0;34m**\u001b[0m\u001b[0mkwds\u001b[0m\u001b[0;34m)\u001b[0m\u001b[0;34m\u001b[0m\u001b[0;34m\u001b[0m\u001b[0m\n\u001b[0m\u001b[1;32m    438\u001b[0m \u001b[0;34m\u001b[0m\u001b[0m\n\u001b[1;32m    439\u001b[0m     \u001b[0;32mreturn\u001b[0m \u001b[0mwrapper\u001b[0m\u001b[0;34m\u001b[0m\u001b[0;34m\u001b[0m\u001b[0m\n",
            "\u001b[0;32m/usr/local/lib/python3.7/dist-packages/rasterio/__init__.py\u001b[0m in \u001b[0;36mopen\u001b[0;34m(fp, mode, driver, width, height, count, crs, transform, dtype, nodata, sharing, **kwargs)\u001b[0m\n\u001b[1;32m    218\u001b[0m         \u001b[0;31m# None.\u001b[0m\u001b[0;34m\u001b[0m\u001b[0;34m\u001b[0m\u001b[0;34m\u001b[0m\u001b[0m\n\u001b[1;32m    219\u001b[0m         \u001b[0;32mif\u001b[0m \u001b[0mmode\u001b[0m \u001b[0;34m==\u001b[0m \u001b[0;34m'r'\u001b[0m\u001b[0;34m:\u001b[0m\u001b[0;34m\u001b[0m\u001b[0;34m\u001b[0m\u001b[0m\n\u001b[0;32m--> 220\u001b[0;31m             \u001b[0ms\u001b[0m \u001b[0;34m=\u001b[0m \u001b[0mDatasetReader\u001b[0m\u001b[0;34m(\u001b[0m\u001b[0mpath\u001b[0m\u001b[0;34m,\u001b[0m \u001b[0mdriver\u001b[0m\u001b[0;34m=\u001b[0m\u001b[0mdriver\u001b[0m\u001b[0;34m,\u001b[0m \u001b[0msharing\u001b[0m\u001b[0;34m=\u001b[0m\u001b[0msharing\u001b[0m\u001b[0;34m,\u001b[0m \u001b[0;34m**\u001b[0m\u001b[0mkwargs\u001b[0m\u001b[0;34m)\u001b[0m\u001b[0;34m\u001b[0m\u001b[0;34m\u001b[0m\u001b[0m\n\u001b[0m\u001b[1;32m    221\u001b[0m         \u001b[0;32melif\u001b[0m \u001b[0mmode\u001b[0m \u001b[0;34m==\u001b[0m \u001b[0;34m\"r+\"\u001b[0m\u001b[0;34m:\u001b[0m\u001b[0;34m\u001b[0m\u001b[0;34m\u001b[0m\u001b[0m\n\u001b[1;32m    222\u001b[0m             s = get_writer_for_path(path, driver=driver)(\n",
            "\u001b[0;32mrasterio/_base.pyx\u001b[0m in \u001b[0;36mrasterio._base.DatasetBase.__init__\u001b[0;34m()\u001b[0m\n",
            "\u001b[0;31mRasterioIOError\u001b[0m: ../data/SectionI/RWA_ppp_2002_v2.tif: No such file or directory"
          ]
        }
      ],
      "source": [
        "ppp = rioxarray.open_rasterio(\"../data/SectionI/RWA_ppp_2002_v2.tif\", masked=True)\n",
        "pph = rioxarray.open_rasterio(\"../data/SectionI/RWA_pph_2002_v2.tif\", masked=True)"
      ]
    },
    {
      "cell_type": "code",
      "execution_count": 8,
      "id": "50e1056a-248a-4b1f-b205-3f9df3f25cd3",
      "metadata": {
        "id": "50e1056a-248a-4b1f-b205-3f9df3f25cd3"
      },
      "outputs": [],
      "source": [
        "# Use the following when working in Google Colab instead\n",
        "ppp = rioxarray.open_rasterio(\"https://github.com/jjniev01/GISRUK_Dasy/raw/main/data/SectionI/RWA_ppp_2002_v2.tif\", masked=True)\n",
        "pph = rioxarray.open_rasterio(\"https://github.com/jjniev01/GISRUK_Dasy/raw/main/data/SectionI/RWA_pph_2002_v2.tif\", masked=True)"
      ]
    },
    {
      "cell_type": "markdown",
      "id": "8e7d1b21-8819-4e73-9fe6-80e3fd1e09d5",
      "metadata": {
        "id": "8e7d1b21-8819-4e73-9fe6-80e3fd1e09d5"
      },
      "source": [
        "You can now view the raster datasets if you type (one command at a time):"
      ]
    },
    {
      "cell_type": "code",
      "execution_count": 9,
      "id": "185ecdf2-f4e2-4c59-bcf3-31be80122fda",
      "metadata": {
        "id": "185ecdf2-f4e2-4c59-bcf3-31be80122fda",
        "outputId": "1a2fa472-be57-4b1d-9644-1c24d4b60f3c",
        "colab": {
          "base_uri": "https://localhost:8080/",
          "height": 312
        }
      },
      "outputs": [
        {
          "output_type": "execute_result",
          "data": {
            "text/plain": [
              "<matplotlib.collections.QuadMesh at 0x7fdd1f2271d0>"
            ]
          },
          "metadata": {},
          "execution_count": 9
        },
        {
          "output_type": "display_data",
          "data": {
            "text/plain": [
              "<Figure size 432x288 with 2 Axes>"
            ],
            "image/png": "[encoded data removed]"
          },
          "metadata": {
            "needs_background": "light"
          }
        }
      ],
      "source": [
        "ppp.plot()"
      ]
    },
    {
      "cell_type": "code",
      "execution_count": 10,
      "id": "dd971f07-6b99-4029-be84-69a0c3071f0a",
      "metadata": {
        "id": "dd971f07-6b99-4029-be84-69a0c3071f0a",
        "outputId": "3be58f82-cc95-4cce-b0c3-0302060796c2",
        "colab": {
          "base_uri": "https://localhost:8080/",
          "height": 312
        }
      },
      "outputs": [
        {
          "output_type": "execute_result",
          "data": {
            "text/plain": [
              "<matplotlib.collections.QuadMesh at 0x7fdd233edd90>"
            ]
          },
          "metadata": {},
          "execution_count": 10
        },
        {
          "output_type": "display_data",
          "data": {
            "text/plain": [
              "<Figure size 432x288 with 2 Axes>"
            ],
            "image/png": "[encoded data removed]"
          },
          "metadata": {
            "needs_background": "light"
          }
        }
      ],
      "source": [
        "pph.plot()"
      ]
    },
    {
      "cell_type": "markdown",
      "id": "fb3bc92e-6bec-411a-8f12-0764e7d32129",
      "metadata": {
        "id": "fb3bc92e-6bec-411a-8f12-0764e7d32129"
      },
      "source": [
        "We want some basic information regarding the two rasters we’ve loaded. We can get this by simply typing the variable name we assigned one of the rasters to and hitting `Shift+Enter`. For example, if I type `pph` and hit `Shift+Enter` I get the following output in the interactive window."
      ]
    },
    {
      "cell_type": "code",
      "execution_count": 11,
      "id": "21499da8-87ae-4143-b898-973625ee4335",
      "metadata": {
        "id": "21499da8-87ae-4143-b898-973625ee4335",
        "outputId": "28ccb5c0-29e3-486d-f5c4-5ccd8acf38e0",
        "colab": {
          "base_uri": "https://localhost:8080/",
          "height": 215
        }
      },
      "outputs": [
        {
          "output_type": "execute_result",
          "data": {
            "text/plain": [
              "<xarray.DataArray (band: 1, y: 1980, x: 2265)>\n",
              "[4484700 values with dtype=float32]\n",
              "Coordinates:\n",
              "  * band         (band) int64 1\n",
              "  * x            (x) float64 3.734e+05 3.735e+05 ... 5.997e+05 5.998e+05\n",
              "  * y            (y) float64 9.884e+06 9.884e+06 ... 9.686e+06 9.686e+06\n",
              "    spatial_ref  int64 0\n",
              "Attributes:\n",
              "    SourceBandIndex:         0\n",
              "    STATISTICS_COVARIANCES:  55.41262832360594\n",
              "    STATISTICS_MAXIMUM:      976.42547607422\n",
              "    STATISTICS_MEAN:         4.0032503010297\n",
              "    STATISTICS_MINIMUM:      0\n",
              "    STATISTICS_SKIPFACTORX:  1\n",
              "    STATISTICS_SKIPFACTORY:  1\n",
              "    STATISTICS_STDDEV:       7.4439659002178\n",
              "    scale_factor:            1.0\n",
              "    add_offset:              0.0"
            ],
            "text/html": [
              "<div><svg style=\"position: absolute; width: 0; height: 0; overflow: hidden\">\n",
              "<defs>\n",
              "<symbol id=\"icon-database\" viewBox=\"0 0 32 32\">\n",
              "<path d=\"M16 0c-8.837 0-16 2.239-16 5v4c0 2.761 7.163 5 16 5s16-2.239 16-5v-4c0-2.761-7.163-5-16-5z\"></path>\n",
              "<path d=\"M16 17c-8.837 0-16-2.239-16-5v6c0 2.761 7.163 5 16 5s16-2.239 16-5v-6c0 2.761-7.163 5-16 5z\"></path>\n",
              "<path d=\"M16 26c-8.837 0-16-2.239-16-5v6c0 2.761 7.163 5 16 5s16-2.239 16-5v-6c0 2.761-7.163 5-16 5z\"></path>\n",
              "</symbol>\n",
              "<symbol id=\"icon-file-text2\" viewBox=\"0 0 32 32\">\n",
              "<path d=\"M28.681 7.159c-0.694-0.947-1.662-2.053-2.724-3.116s-2.169-2.030-3.116-2.724c-1.612-1.182-2.393-1.319-2.841-1.319h-15.5c-1.378 0-2.5 1.121-2.5 2.5v27c0 1.378 1.122 2.5 2.5 2.5h23c1.378 0 2.5-1.122 2.5-2.5v-19.5c0-0.448-0.137-1.23-1.319-2.841zM24.543 5.457c0.959 0.959 1.712 1.825 2.268 2.543h-4.811v-4.811c0.718 0.556 1.584 1.309 2.543 2.268zM28 29.5c0 0.271-0.229 0.5-0.5 0.5h-23c-0.271 0-0.5-0.229-0.5-0.5v-27c0-0.271 0.229-0.5 0.5-0.5 0 0 15.499-0 15.5 0v7c0 0.552 0.448 1 1 1h7v19.5z\"></path>\n",
              "<path d=\"M23 26h-14c-0.552 0-1-0.448-1-1s0.448-1 1-1h14c0.552 0 1 0.448 1 1s-0.448 1-1 1z\"></path>\n",
              "<path d=\"M23 22h-14c-0.552 0-1-0.448-1-1s0.448-1 1-1h14c0.552 0 1 0.448 1 1s-0.448 1-1 1z\"></path>\n",
              "<path d=\"M23 18h-14c-0.552 0-1-0.448-1-1s0.448-1 1-1h14c0.552 0 1 0.448 1 1s-0.448 1-1 1z\"></path>\n",
              "</symbol>\n",
              "</defs>\n",
              "</svg>\n",
              "<style>/* CSS stylesheet for displaying xarray objects in jupyterlab.\n",
              " *\n",
              " */\n",
              "\n",
              ":root {\n",
              "  --xr-font-color0: var(--jp-content-font-color0, rgba(0, 0, 0, 1));\n",
              "  --xr-font-color2: var(--jp-content-font-color2, rgba(0, 0, 0, 0.54));\n",
              "  --xr-font-color3: var(--jp-content-font-color3, rgba(0, 0, 0, 0.38));\n",
              "  --xr-border-color: var(--jp-border-color2, #e0e0e0);\n",
              "  --xr-disabled-color: var(--jp-layout-color3, #bdbdbd);\n",
              "  --xr-background-color: var(--jp-layout-color0, white);\n",
              "  --xr-background-color-row-even: var(--jp-layout-color1, white);\n",
              "  --xr-background-color-row-odd: var(--jp-layout-color2, #eeeeee);\n",
              "}\n",
              "\n",
              "html[theme=dark],\n",
              "body.vscode-dark {\n",
              "  --xr-font-color0: rgba(255, 255, 255, 1);\n",
              "  --xr-font-color2: rgba(255, 255, 255, 0.54);\n",
              "  --xr-font-color3: rgba(255, 255, 255, 0.38);\n",
              "  --xr-border-color: #1F1F1F;\n",
              "  --xr-disabled-color: #515151;\n",
              "  --xr-background-color: #111111;\n",
              "  --xr-background-color-row-even: #111111;\n",
              "  --xr-background-color-row-odd: #313131;\n",
              "}\n",
              "\n",
              ".xr-wrap {\n",
              "  display: block;\n",
              "  min-width: 300px;\n",
              "  max-width: 700px;\n",
              "}\n",
              "\n",
              ".xr-text-repr-fallback {\n",
              "  /* fallback to plain text repr when CSS is not injected (untrusted notebook) */\n",
              "  display: none;\n",
              "}\n",
              "\n",
              ".xr-header {\n",
              "  padding-top: 6px;\n",
              "  padding-bottom: 6px;\n",
              "  margin-bottom: 4px;\n",
              "  border-bottom: solid 1px var(--xr-border-color);\n",
              "}\n",
              "\n",
              ".xr-header > div,\n",
              ".xr-header > ul {\n",
              "  display: inline;\n",
              "  margin-top: 0;\n",
              "  margin-bottom: 0;\n",
              "}\n",
              "\n",
              ".xr-obj-type,\n",
              ".xr-array-name {\n",
              "  margin-left: 2px;\n",
              "  margin-right: 10px;\n",
              "}\n",
              "\n",
              ".xr-obj-type {\n",
              "  color: var(--xr-font-color2);\n",
              "}\n",
              "\n",
              ".xr-sections {\n",
              "  padding-left: 0 !important;\n",
              "  display: grid;\n",
              "  grid-template-columns: 150px auto auto 1fr 20px 20px;\n",
              "}\n",
              "\n",
              ".xr-section-item {\n",
              "  display: contents;\n",
              "}\n",
              "\n",
              ".xr-section-item input {\n",
              "  display: none;\n",
              "}\n",
              "\n",
              ".xr-section-item input + label {\n",
              "  color: var(--xr-disabled-color);\n",
              "}\n",
              "\n",
              ".xr-section-item input:enabled + label {\n",
              "  cursor: pointer;\n",
              "  color: var(--xr-font-color2);\n",
              "}\n",
              "\n",
              ".xr-section-item input:enabled + label:hover {\n",
              "  color: var(--xr-font-color0);\n",
              "}\n",
              "\n",
              ".xr-section-summary {\n",
              "  grid-column: 1;\n",
              "  color: var(--xr-font-color2);\n",
              "  font-weight: 500;\n",
              "}\n",
              "\n",
              ".xr-section-summary > span {\n",
              "  display: inline-block;\n",
              "  padding-left: 0.5em;\n",
              "}\n",
              "\n",
              ".xr-section-summary-in:disabled + label {\n",
              "  color: var(--xr-font-color2);\n",
              "}\n",
              "\n",
              ".xr-section-summary-in + label:before {\n",
              "  display: inline-block;\n",
              "  content: '►';\n",
              "  font-size: 11px;\n",
              "  width: 15px;\n",
              "  text-align: center;\n",
              "}\n",
              "\n",
              ".xr-section-summary-in:disabled + label:before {\n",
              "  color: var(--xr-disabled-color);\n",
              "}\n",
              "\n",
              ".xr-section-summary-in:checked + label:before {\n",
              "  content: '▼';\n",
              "}\n",
              "\n",
              ".xr-section-summary-in:checked + label > span {\n",
              "  display: none;\n",
              "}\n",
              "\n",
              ".xr-section-summary,\n",
              ".xr-section-inline-details {\n",
              "  padding-top: 4px;\n",
              "  padding-bottom: 4px;\n",
              "}\n",
              "\n",
              ".xr-section-inline-details {\n",
              "  grid-column: 2 / -1;\n",
              "}\n",
              "\n",
              ".xr-section-details {\n",
              "  display: none;\n",
              "  grid-column: 1 / -1;\n",
              "  margin-bottom: 5px;\n",
              "}\n",
              "\n",
              ".xr-section-summary-in:checked ~ .xr-section-details {\n",
              "  display: contents;\n",
              "}\n",
              "\n",
              ".xr-array-wrap {\n",
              "  grid-column: 1 / -1;\n",
              "  display: grid;\n",
              "  grid-template-columns: 20px auto;\n",
              "}\n",
              "\n",
              ".xr-array-wrap > label {\n",
              "  grid-column: 1;\n",
              "  vertical-align: top;\n",
              "}\n",
              "\n",
              ".xr-preview {\n",
              "  color: var(--xr-font-color3);\n",
              "}\n",
              "\n",
              ".xr-array-preview,\n",
              ".xr-array-data {\n",
              "  padding: 0 5px !important;\n",
              "  grid-column: 2;\n",
              "}\n",
              "\n",
              ".xr-array-data,\n",
              ".xr-array-in:checked ~ .xr-array-preview {\n",
              "  display: none;\n",
              "}\n",
              "\n",
              ".xr-array-in:checked ~ .xr-array-data,\n",
              ".xr-array-preview {\n",
              "  display: inline-block;\n",
              "}\n",
              "\n",
              ".xr-dim-list {\n",
              "  display: inline-block !important;\n",
              "  list-style: none;\n",
              "  padding: 0 !important;\n",
              "  margin: 0;\n",
              "}\n",
              "\n",
              ".xr-dim-list li {\n",
              "  display: inline-block;\n",
              "  padding: 0;\n",
              "  margin: 0;\n",
              "}\n",
              "\n",
              ".xr-dim-list:before {\n",
              "  content: '(';\n",
              "}\n",
              "\n",
              ".xr-dim-list:after {\n",
              "  content: ')';\n",
              "}\n",
              "\n",
              ".xr-dim-list li:not(:last-child):after {\n",
              "  content: ',';\n",
              "  padding-right: 5px;\n",
              "}\n",
              "\n",
              ".xr-has-index {\n",
              "  font-weight: bold;\n",
              "}\n",
              "\n",
              ".xr-var-list,\n",
              ".xr-var-item {\n",
              "  display: contents;\n",
              "}\n",
              "\n",
              ".xr-var-item > div,\n",
              ".xr-var-item label,\n",
              ".xr-var-item > .xr-var-name span {\n",
              "  background-color: var(--xr-background-color-row-even);\n",
              "  margin-bottom: 0;\n",
              "}\n",
              "\n",
              ".xr-var-item > .xr-var-name:hover span {\n",
              "  padding-right: 5px;\n",
              "}\n",
              "\n",
              ".xr-var-list > li:nth-child(odd) > div,\n",
              ".xr-var-list > li:nth-child(odd) > label,\n",
              ".xr-var-list > li:nth-child(odd) > .xr-var-name span {\n",
              "  background-color: var(--xr-background-color-row-odd);\n",
              "}\n",
              "\n",
              ".xr-var-name {\n",
              "  grid-column: 1;\n",
              "}\n",
              "\n",
              ".xr-var-dims {\n",
              "  grid-column: 2;\n",
              "}\n",
              "\n",
              ".xr-var-dtype {\n",
              "  grid-column: 3;\n",
              "  text-align: right;\n",
              "  color: var(--xr-font-color2);\n",
              "}\n",
              "\n",
              ".xr-var-preview {\n",
              "  grid-column: 4;\n",
              "}\n",
              "\n",
              ".xr-var-name,\n",
              ".xr-var-dims,\n",
              ".xr-var-dtype,\n",
              ".xr-preview,\n",
              ".xr-attrs dt {\n",
              "  white-space: nowrap;\n",
              "  overflow: hidden;\n",
              "  text-overflow: ellipsis;\n",
              "  padding-right: 10px;\n",
              "}\n",
              "\n",
              ".xr-var-name:hover,\n",
              ".xr-var-dims:hover,\n",
              ".xr-var-dtype:hover,\n",
              ".xr-attrs dt:hover {\n",
              "  overflow: visible;\n",
              "  width: auto;\n",
              "  z-index: 1;\n",
              "}\n",
              "\n",
              ".xr-var-attrs,\n",
              ".xr-var-data {\n",
              "  display: none;\n",
              "  background-color: var(--xr-background-color) !important;\n",
              "  padding-bottom: 5px !important;\n",
              "}\n",
              "\n",
              ".xr-var-attrs-in:checked ~ .xr-var-attrs,\n",
              ".xr-var-data-in:checked ~ .xr-var-data {\n",
              "  display: block;\n",
              "}\n",
              "\n",
              ".xr-var-data > table {\n",
              "  float: right;\n",
              "}\n",
              "\n",
              ".xr-var-name span,\n",
              ".xr-var-data,\n",
              ".xr-attrs {\n",
              "  padding-left: 25px !important;\n",
              "}\n",
              "\n",
              ".xr-attrs,\n",
              ".xr-var-attrs,\n",
              ".xr-var-data {\n",
              "  grid-column: 1 / -1;\n",
              "}\n",
              "\n",
              "dl.xr-attrs {\n",
              "  padding: 0;\n",
              "  margin: 0;\n",
              "  display: grid;\n",
              "  grid-template-columns: 125px auto;\n",
              "}\n",
              "\n",
              ".xr-attrs dt,\n",
              ".xr-attrs dd {\n",
              "  padding: 0;\n",
              "  margin: 0;\n",
              "  float: left;\n",
              "  padding-right: 10px;\n",
              "  width: auto;\n",
              "}\n",
              "\n",
              ".xr-attrs dt {\n",
              "  font-weight: normal;\n",
              "  grid-column: 1;\n",
              "}\n",
              "\n",
              ".xr-attrs dt:hover span {\n",
              "  display: inline-block;\n",
              "  background: var(--xr-background-color);\n",
              "  padding-right: 10px;\n",
              "}\n",
              "\n",
              ".xr-attrs dd {\n",
              "  grid-column: 2;\n",
              "  white-space: pre-wrap;\n",
              "  word-break: break-all;\n",
              "}\n",
              "\n",
              ".xr-icon-database,\n",
              ".xr-icon-file-text2 {\n",
              "  display: inline-block;\n",
              "  vertical-align: middle;\n",
              "  width: 1em;\n",
              "  height: 1.5em !important;\n",
              "  stroke-width: 0;\n",
              "  stroke: currentColor;\n",
              "  fill: currentColor;\n",
              "}\n",
              "</style><pre class='xr-text-repr-fallback'>&lt;xarray.DataArray (band: 1, y: 1980, x: 2265)&gt;\n",
              "[4484700 values with dtype=float32]\n",
              "Coordinates:\n",
              "  * band         (band) int64 1\n",
              "  * x            (x) float64 3.734e+05 3.735e+05 ... 5.997e+05 5.998e+05\n",
              "  * y            (y) float64 9.884e+06 9.884e+06 ... 9.686e+06 9.686e+06\n",
              "    spatial_ref  int64 0\n",
              "Attributes:\n",
              "    SourceBandIndex:         0\n",
              "    STATISTICS_COVARIANCES:  55.41262832360594\n",
              "    STATISTICS_MAXIMUM:      976.42547607422\n",
              "    STATISTICS_MEAN:         4.0032503010297\n",
              "    STATISTICS_MINIMUM:      0\n",
              "    STATISTICS_SKIPFACTORX:  1\n",
              "    STATISTICS_SKIPFACTORY:  1\n",
              "    STATISTICS_STDDEV:       7.4439659002178\n",
              "    scale_factor:            1.0\n",
              "    add_offset:              0.0</pre><div class='xr-wrap' hidden><div class='xr-header'><div class='xr-obj-type'>xarray.DataArray</div><div class='xr-array-name'></div><ul class='xr-dim-list'><li><span class='xr-has-index'>band</span>: 1</li><li><span class='xr-has-index'>y</span>: 1980</li><li><span class='xr-has-index'>x</span>: 2265</li></ul></div><ul class='xr-sections'><li class='xr-section-item'><div class='xr-array-wrap'><input id='section-5bd6de4d-aafe-4b92-8b19-d498e59c9bd3' class='xr-array-in' type='checkbox' checked><label for='section-5bd6de4d-aafe-4b92-8b19-d498e59c9bd3' title='Show/hide data repr'><svg class='icon xr-icon-database'><use xlink:href='#icon-database'></use></svg></label><div class='xr-array-preview xr-preview'><span>...</span></div><div class='xr-array-data'><pre>[4484700 values with dtype=float32]</pre></div></div></li><li class='xr-section-item'><input id='section-64df403d-a8b8-4511-8048-426ed82ddb2f' class='xr-section-summary-in' type='checkbox'  checked><label for='section-64df403d-a8b8-4511-8048-426ed82ddb2f' class='xr-section-summary' >Coordinates: <span>(4)</span></label><div class='xr-section-inline-details'></div><div class='xr-section-details'><ul class='xr-var-list'><li class='xr-var-item'><div class='xr-var-name'><span class='xr-has-index'>band</span></div><div class='xr-var-dims'>(band)</div><div class='xr-var-dtype'>int64</div><div class='xr-var-preview xr-preview'>1</div><input id='attrs-3194ea8a-5981-4761-b758-9e64df71294c' class='xr-var-attrs-in' type='checkbox' disabled><label for='attrs-3194ea8a-5981-4761-b758-9e64df71294c' title='Show/Hide attributes'><svg class='icon xr-icon-file-text2'><use xlink:href='#icon-file-text2'></use></svg></label><input id='data-df26fc06-0fe1-4897-8743-32c9b6a5fdd0' class='xr-var-data-in' type='checkbox'><label for='data-df26fc06-0fe1-4897-8743-32c9b6a5fdd0' title='Show/Hide data repr'><svg class='icon xr-icon-database'><use xlink:href='#icon-database'></use></svg></label><div class='xr-var-attrs'><dl class='xr-attrs'></dl></div><div class='xr-var-data'><pre>array([1])</pre></div></li><li class='xr-var-item'><div class='xr-var-name'><span class='xr-has-index'>x</span></div><div class='xr-var-dims'>(x)</div><div class='xr-var-dtype'>float64</div><div class='xr-var-preview xr-preview'>3.734e+05 3.735e+05 ... 5.998e+05</div><input id='attrs-25a610ce-dc59-4fc5-a901-001cbdbe1cca' class='xr-var-attrs-in' type='checkbox' disabled><label for='attrs-25a610ce-dc59-4fc5-a901-001cbdbe1cca' title='Show/Hide attributes'><svg class='icon xr-icon-file-text2'><use xlink:href='#icon-file-text2'></use></svg></label><input id='data-72e8df22-04bd-4f81-9a79-9d6cda2bcd32' class='xr-var-data-in' type='checkbox'><label for='data-72e8df22-04bd-4f81-9a79-9d6cda2bcd32' title='Show/Hide data repr'><svg class='icon xr-icon-database'><use xlink:href='#icon-database'></use></svg></label><div class='xr-var-attrs'><dl class='xr-attrs'></dl></div><div class='xr-var-data'><pre>array([373352.964243, 373452.964243, 373552.964243, ..., 599552.964243,\n",
              "       599652.964243, 599752.964243])</pre></div></li><li class='xr-var-item'><div class='xr-var-name'><span class='xr-has-index'>y</span></div><div class='xr-var-dims'>(y)</div><div class='xr-var-dtype'>float64</div><div class='xr-var-preview xr-preview'>9.884e+06 9.884e+06 ... 9.686e+06</div><input id='attrs-8c97b674-8a07-4857-9dd2-67616f4e5078' class='xr-var-attrs-in' type='checkbox' disabled><label for='attrs-8c97b674-8a07-4857-9dd2-67616f4e5078' title='Show/Hide attributes'><svg class='icon xr-icon-file-text2'><use xlink:href='#icon-file-text2'></use></svg></label><input id='data-a9a2c66e-511a-4075-8359-55c18d1dd2e2' class='xr-var-data-in' type='checkbox'><label for='data-a9a2c66e-511a-4075-8359-55c18d1dd2e2' title='Show/Hide data repr'><svg class='icon xr-icon-database'><use xlink:href='#icon-database'></use></svg></label><div class='xr-var-attrs'><dl class='xr-attrs'></dl></div><div class='xr-var-data'><pre>array([9884070.966293, 9883970.966293, 9883870.966293, ..., 9686370.966293,\n",
              "       9686270.966293, 9686170.966293])</pre></div></li><li class='xr-var-item'><div class='xr-var-name'><span>spatial_ref</span></div><div class='xr-var-dims'>()</div><div class='xr-var-dtype'>int64</div><div class='xr-var-preview xr-preview'>0</div><input id='attrs-57236237-b01f-4135-bacc-6c6f40607cac' class='xr-var-attrs-in' type='checkbox' ><label for='attrs-57236237-b01f-4135-bacc-6c6f40607cac' title='Show/Hide attributes'><svg class='icon xr-icon-file-text2'><use xlink:href='#icon-file-text2'></use></svg></label><input id='data-71932765-d595-4d80-b2ee-4fb2525e8be6' class='xr-var-data-in' type='checkbox'><label for='data-71932765-d595-4d80-b2ee-4fb2525e8be6' title='Show/Hide data repr'><svg class='icon xr-icon-database'><use xlink:href='#icon-database'></use></svg></label><div class='xr-var-attrs'><dl class='xr-attrs'><dt><span>crs_wkt :</span></dt><dd>PROJCS[&quot;WGS_1984_Transverse_Mercator&quot;,GEOGCS[&quot;WGS 84&quot;,DATUM[&quot;WGS_1984&quot;,SPHEROID[&quot;WGS 84&quot;,6378137,298.257223563,AUTHORITY[&quot;EPSG&quot;,&quot;7030&quot;]],AUTHORITY[&quot;EPSG&quot;,&quot;6326&quot;]],PRIMEM[&quot;Greenwich&quot;,0],UNIT[&quot;degree&quot;,0.0174532925199433,AUTHORITY[&quot;EPSG&quot;,&quot;9122&quot;]],AUTHORITY[&quot;EPSG&quot;,&quot;4326&quot;]],PROJECTION[&quot;Transverse_Mercator&quot;],PARAMETER[&quot;latitude_of_origin&quot;,0],PARAMETER[&quot;central_meridian&quot;,30],PARAMETER[&quot;scale_factor&quot;,0.9996],PARAMETER[&quot;false_easting&quot;,500000],PARAMETER[&quot;false_northing&quot;,10000000],UNIT[&quot;metre&quot;,1,AUTHORITY[&quot;EPSG&quot;,&quot;9001&quot;]],AXIS[&quot;Easting&quot;,EAST],AXIS[&quot;Northing&quot;,NORTH]]</dd><dt><span>semi_major_axis :</span></dt><dd>6378137.0</dd><dt><span>semi_minor_axis :</span></dt><dd>6356752.314245179</dd><dt><span>inverse_flattening :</span></dt><dd>298.257223563</dd><dt><span>reference_ellipsoid_name :</span></dt><dd>WGS 84</dd><dt><span>longitude_of_prime_meridian :</span></dt><dd>0.0</dd><dt><span>prime_meridian_name :</span></dt><dd>Greenwich</dd><dt><span>geographic_crs_name :</span></dt><dd>WGS 84</dd><dt><span>horizontal_datum_name :</span></dt><dd>World Geodetic System 1984</dd><dt><span>projected_crs_name :</span></dt><dd>WGS_1984_Transverse_Mercator</dd><dt><span>grid_mapping_name :</span></dt><dd>transverse_mercator</dd><dt><span>latitude_of_projection_origin :</span></dt><dd>0.0</dd><dt><span>longitude_of_central_meridian :</span></dt><dd>30.0</dd><dt><span>false_easting :</span></dt><dd>500000.0</dd><dt><span>false_northing :</span></dt><dd>10000000.0</dd><dt><span>scale_factor_at_central_meridian :</span></dt><dd>0.9996</dd><dt><span>spatial_ref :</span></dt><dd>PROJCS[&quot;WGS_1984_Transverse_Mercator&quot;,GEOGCS[&quot;WGS 84&quot;,DATUM[&quot;WGS_1984&quot;,SPHEROID[&quot;WGS 84&quot;,6378137,298.257223563,AUTHORITY[&quot;EPSG&quot;,&quot;7030&quot;]],AUTHORITY[&quot;EPSG&quot;,&quot;6326&quot;]],PRIMEM[&quot;Greenwich&quot;,0],UNIT[&quot;degree&quot;,0.0174532925199433,AUTHORITY[&quot;EPSG&quot;,&quot;9122&quot;]],AUTHORITY[&quot;EPSG&quot;,&quot;4326&quot;]],PROJECTION[&quot;Transverse_Mercator&quot;],PARAMETER[&quot;latitude_of_origin&quot;,0],PARAMETER[&quot;central_meridian&quot;,30],PARAMETER[&quot;scale_factor&quot;,0.9996],PARAMETER[&quot;false_easting&quot;,500000],PARAMETER[&quot;false_northing&quot;,10000000],UNIT[&quot;metre&quot;,1,AUTHORITY[&quot;EPSG&quot;,&quot;9001&quot;]],AXIS[&quot;Easting&quot;,EAST],AXIS[&quot;Northing&quot;,NORTH]]</dd><dt><span>GeoTransform :</span></dt><dd>373302.964242613 99.99999999999997 0.0 9884120.96629281 0.0 -100.0</dd></dl></div><div class='xr-var-data'><pre>array(0)</pre></div></li></ul></div></li><li class='xr-section-item'><input id='section-dd217bd4-f93f-4919-b65c-175d578ac7be' class='xr-section-summary-in' type='checkbox'  ><label for='section-dd217bd4-f93f-4919-b65c-175d578ac7be' class='xr-section-summary' >Attributes: <span>(10)</span></label><div class='xr-section-inline-details'></div><div class='xr-section-details'><dl class='xr-attrs'><dt><span>SourceBandIndex :</span></dt><dd>0</dd><dt><span>STATISTICS_COVARIANCES :</span></dt><dd>55.41262832360594</dd><dt><span>STATISTICS_MAXIMUM :</span></dt><dd>976.42547607422</dd><dt><span>STATISTICS_MEAN :</span></dt><dd>4.0032503010297</dd><dt><span>STATISTICS_MINIMUM :</span></dt><dd>0</dd><dt><span>STATISTICS_SKIPFACTORX :</span></dt><dd>1</dd><dt><span>STATISTICS_SKIPFACTORY :</span></dt><dd>1</dd><dt><span>STATISTICS_STDDEV :</span></dt><dd>7.4439659002178</dd><dt><span>scale_factor :</span></dt><dd>1.0</dd><dt><span>add_offset :</span></dt><dd>0.0</dd></dl></div></li></ul></div></div>"
            ]
          },
          "metadata": {},
          "execution_count": 11
        }
      ],
      "source": [
        "pph"
      ]
    },
    {
      "cell_type": "markdown",
      "id": "bbbde131-2e0e-4c35-98f8-a46c8a4f8aa6",
      "metadata": {
        "id": "bbbde131-2e0e-4c35-98f8-a46c8a4f8aa6"
      },
      "source": [
        "Similarly if you type `ppp` and hit `Enter` we'll get the following."
      ]
    },
    {
      "cell_type": "code",
      "execution_count": 12,
      "id": "9e233a4d-69e0-44aa-a5c3-462e626721f2",
      "metadata": {
        "id": "9e233a4d-69e0-44aa-a5c3-462e626721f2",
        "outputId": "852697ca-7b67-48e4-cb0f-fd74d8dd13d3",
        "colab": {
          "base_uri": "https://localhost:8080/",
          "height": 215
        }
      },
      "outputs": [
        {
          "output_type": "execute_result",
          "data": {
            "text/plain": [
              "<xarray.DataArray (band: 1, y: 2152, x: 2447)>\n",
              "[5265944 values with dtype=float32]\n",
              "Coordinates:\n",
              "  * band         (band) int64 1\n",
              "  * x            (x) float64 28.86 28.86 28.86 28.86 ... 30.9 30.9 30.9 30.9\n",
              "  * y            (y) float64 -1.048 -1.049 -1.049 -1.05 ... -2.839 -2.839 -2.84\n",
              "    spatial_ref  int64 0\n",
              "Attributes:\n",
              "    SourceBandIndex:         0\n",
              "    STATISTICS_COVARIANCES:  38.45201797487155\n",
              "    STATISTICS_MAXIMUM:      713.57940673828\n",
              "    STATISTICS_MEAN:         3.4174178740784\n",
              "    STATISTICS_MINIMUM:      0\n",
              "    STATISTICS_SKIPFACTORX:  1\n",
              "    STATISTICS_SKIPFACTORY:  1\n",
              "    STATISTICS_STDDEV:       6.2009691157811\n",
              "    scale_factor:            1.0\n",
              "    add_offset:              0.0"
            ],
            "text/html": [
              "<div><svg style=\"position: absolute; width: 0; height: 0; overflow: hidden\">\n",
              "<defs>\n",
              "<symbol id=\"icon-database\" viewBox=\"0 0 32 32\">\n",
              "<path d=\"M16 0c-8.837 0-16 2.239-16 5v4c0 2.761 7.163 5 16 5s16-2.239 16-5v-4c0-2.761-7.163-5-16-5z\"></path>\n",
              "<path d=\"M16 17c-8.837 0-16-2.239-16-5v6c0 2.761 7.163 5 16 5s16-2.239 16-5v-6c0 2.761-7.163 5-16 5z\"></path>\n",
              "<path d=\"M16 26c-8.837 0-16-2.239-16-5v6c0 2.761 7.163 5 16 5s16-2.239 16-5v-6c0 2.761-7.163 5-16 5z\"></path>\n",
              "</symbol>\n",
              "<symbol id=\"icon-file-text2\" viewBox=\"0 0 32 32\">\n",
              "<path d=\"M28.681 7.159c-0.694-0.947-1.662-2.053-2.724-3.116s-2.169-2.030-3.116-2.724c-1.612-1.182-2.393-1.319-2.841-1.319h-15.5c-1.378 0-2.5 1.121-2.5 2.5v27c0 1.378 1.122 2.5 2.5 2.5h23c1.378 0 2.5-1.122 2.5-2.5v-19.5c0-0.448-0.137-1.23-1.319-2.841zM24.543 5.457c0.959 0.959 1.712 1.825 2.268 2.543h-4.811v-4.811c0.718 0.556 1.584 1.309 2.543 2.268zM28 29.5c0 0.271-0.229 0.5-0.5 0.5h-23c-0.271 0-0.5-0.229-0.5-0.5v-27c0-0.271 0.229-0.5 0.5-0.5 0 0 15.499-0 15.5 0v7c0 0.552 0.448 1 1 1h7v19.5z\"></path>\n",
              "<path d=\"M23 26h-14c-0.552 0-1-0.448-1-1s0.448-1 1-1h14c0.552 0 1 0.448 1 1s-0.448 1-1 1z\"></path>\n",
              "<path d=\"M23 22h-14c-0.552 0-1-0.448-1-1s0.448-1 1-1h14c0.552 0 1 0.448 1 1s-0.448 1-1 1z\"></path>\n",
              "<path d=\"M23 18h-14c-0.552 0-1-0.448-1-1s0.448-1 1-1h14c0.552 0 1 0.448 1 1s-0.448 1-1 1z\"></path>\n",
              "</symbol>\n",
              "</defs>\n",
              "</svg>\n",
              "<style>/* CSS stylesheet for displaying xarray objects in jupyterlab.\n",
              " *\n",
              " */\n",
              "\n",
              ":root {\n",
              "  --xr-font-color0: var(--jp-content-font-color0, rgba(0, 0, 0, 1));\n",
              "  --xr-font-color2: var(--jp-content-font-color2, rgba(0, 0, 0, 0.54));\n",
              "  --xr-font-color3: var(--jp-content-font-color3, rgba(0, 0, 0, 0.38));\n",
              "  --xr-border-color: var(--jp-border-color2, #e0e0e0);\n",
              "  --xr-disabled-color: var(--jp-layout-color3, #bdbdbd);\n",
              "  --xr-background-color: var(--jp-layout-color0, white);\n",
              "  --xr-background-color-row-even: var(--jp-layout-color1, white);\n",
              "  --xr-background-color-row-odd: var(--jp-layout-color2, #eeeeee);\n",
              "}\n",
              "\n",
              "html[theme=dark],\n",
              "body.vscode-dark {\n",
              "  --xr-font-color0: rgba(255, 255, 255, 1);\n",
              "  --xr-font-color2: rgba(255, 255, 255, 0.54);\n",
              "  --xr-font-color3: rgba(255, 255, 255, 0.38);\n",
              "  --xr-border-color: #1F1F1F;\n",
              "  --xr-disabled-color: #515151;\n",
              "  --xr-background-color: #111111;\n",
              "  --xr-background-color-row-even: #111111;\n",
              "  --xr-background-color-row-odd: #313131;\n",
              "}\n",
              "\n",
              ".xr-wrap {\n",
              "  display: block;\n",
              "  min-width: 300px;\n",
              "  max-width: 700px;\n",
              "}\n",
              "\n",
              ".xr-text-repr-fallback {\n",
              "  /* fallback to plain text repr when CSS is not injected (untrusted notebook) */\n",
              "  display: none;\n",
              "}\n",
              "\n",
              ".xr-header {\n",
              "  padding-top: 6px;\n",
              "  padding-bottom: 6px;\n",
              "  margin-bottom: 4px;\n",
              "  border-bottom: solid 1px var(--xr-border-color);\n",
              "}\n",
              "\n",
              ".xr-header > div,\n",
              ".xr-header > ul {\n",
              "  display: inline;\n",
              "  margin-top: 0;\n",
              "  margin-bottom: 0;\n",
              "}\n",
              "\n",
              ".xr-obj-type,\n",
              ".xr-array-name {\n",
              "  margin-left: 2px;\n",
              "  margin-right: 10px;\n",
              "}\n",
              "\n",
              ".xr-obj-type {\n",
              "  color: var(--xr-font-color2);\n",
              "}\n",
              "\n",
              ".xr-sections {\n",
              "  padding-left: 0 !important;\n",
              "  display: grid;\n",
              "  grid-template-columns: 150px auto auto 1fr 20px 20px;\n",
              "}\n",
              "\n",
              ".xr-section-item {\n",
              "  display: contents;\n",
              "}\n",
              "\n",
              ".xr-section-item input {\n",
              "  display: none;\n",
              "}\n",
              "\n",
              ".xr-section-item input + label {\n",
              "  color: var(--xr-disabled-color);\n",
              "}\n",
              "\n",
              ".xr-section-item input:enabled + label {\n",
              "  cursor: pointer;\n",
              "  color: var(--xr-font-color2);\n",
              "}\n",
              "\n",
              ".xr-section-item input:enabled + label:hover {\n",
              "  color: var(--xr-font-color0);\n",
              "}\n",
              "\n",
              ".xr-section-summary {\n",
              "  grid-column: 1;\n",
              "  color: var(--xr-font-color2);\n",
              "  font-weight: 500;\n",
              "}\n",
              "\n",
              ".xr-section-summary > span {\n",
              "  display: inline-block;\n",
              "  padding-left: 0.5em;\n",
              "}\n",
              "\n",
              ".xr-section-summary-in:disabled + label {\n",
              "  color: var(--xr-font-color2);\n",
              "}\n",
              "\n",
              ".xr-section-summary-in + label:before {\n",
              "  display: inline-block;\n",
              "  content: '►';\n",
              "  font-size: 11px;\n",
              "  width: 15px;\n",
              "  text-align: center;\n",
              "}\n",
              "\n",
              ".xr-section-summary-in:disabled + label:before {\n",
              "  color: var(--xr-disabled-color);\n",
              "}\n",
              "\n",
              ".xr-section-summary-in:checked + label:before {\n",
              "  content: '▼';\n",
              "}\n",
              "\n",
              ".xr-section-summary-in:checked + label > span {\n",
              "  display: none;\n",
              "}\n",
              "\n",
              ".xr-section-summary,\n",
              ".xr-section-inline-details {\n",
              "  padding-top: 4px;\n",
              "  padding-bottom: 4px;\n",
              "}\n",
              "\n",
              ".xr-section-inline-details {\n",
              "  grid-column: 2 / -1;\n",
              "}\n",
              "\n",
              ".xr-section-details {\n",
              "  display: none;\n",
              "  grid-column: 1 / -1;\n",
              "  margin-bottom: 5px;\n",
              "}\n",
              "\n",
              ".xr-section-summary-in:checked ~ .xr-section-details {\n",
              "  display: contents;\n",
              "}\n",
              "\n",
              ".xr-array-wrap {\n",
              "  grid-column: 1 / -1;\n",
              "  display: grid;\n",
              "  grid-template-columns: 20px auto;\n",
              "}\n",
              "\n",
              ".xr-array-wrap > label {\n",
              "  grid-column: 1;\n",
              "  vertical-align: top;\n",
              "}\n",
              "\n",
              ".xr-preview {\n",
              "  color: var(--xr-font-color3);\n",
              "}\n",
              "\n",
              ".xr-array-preview,\n",
              ".xr-array-data {\n",
              "  padding: 0 5px !important;\n",
              "  grid-column: 2;\n",
              "}\n",
              "\n",
              ".xr-array-data,\n",
              ".xr-array-in:checked ~ .xr-array-preview {\n",
              "  display: none;\n",
              "}\n",
              "\n",
              ".xr-array-in:checked ~ .xr-array-data,\n",
              ".xr-array-preview {\n",
              "  display: inline-block;\n",
              "}\n",
              "\n",
              ".xr-dim-list {\n",
              "  display: inline-block !important;\n",
              "  list-style: none;\n",
              "  padding: 0 !important;\n",
              "  margin: 0;\n",
              "}\n",
              "\n",
              ".xr-dim-list li {\n",
              "  display: inline-block;\n",
              "  padding: 0;\n",
              "  margin: 0;\n",
              "}\n",
              "\n",
              ".xr-dim-list:before {\n",
              "  content: '(';\n",
              "}\n",
              "\n",
              ".xr-dim-list:after {\n",
              "  content: ')';\n",
              "}\n",
              "\n",
              ".xr-dim-list li:not(:last-child):after {\n",
              "  content: ',';\n",
              "  padding-right: 5px;\n",
              "}\n",
              "\n",
              ".xr-has-index {\n",
              "  font-weight: bold;\n",
              "}\n",
              "\n",
              ".xr-var-list,\n",
              ".xr-var-item {\n",
              "  display: contents;\n",
              "}\n",
              "\n",
              ".xr-var-item > div,\n",
              ".xr-var-item label,\n",
              ".xr-var-item > .xr-var-name span {\n",
              "  background-color: var(--xr-background-color-row-even);\n",
              "  margin-bottom: 0;\n",
              "}\n",
              "\n",
              ".xr-var-item > .xr-var-name:hover span {\n",
              "  padding-right: 5px;\n",
              "}\n",
              "\n",
              ".xr-var-list > li:nth-child(odd) > div,\n",
              ".xr-var-list > li:nth-child(odd) > label,\n",
              ".xr-var-list > li:nth-child(odd) > .xr-var-name span {\n",
              "  background-color: var(--xr-background-color-row-odd);\n",
              "}\n",
              "\n",
              ".xr-var-name {\n",
              "  grid-column: 1;\n",
              "}\n",
              "\n",
              ".xr-var-dims {\n",
              "  grid-column: 2;\n",
              "}\n",
              "\n",
              ".xr-var-dtype {\n",
              "  grid-column: 3;\n",
              "  text-align: right;\n",
              "  color: var(--xr-font-color2);\n",
              "}\n",
              "\n",
              ".xr-var-preview {\n",
              "  grid-column: 4;\n",
              "}\n",
              "\n",
              ".xr-var-name,\n",
              ".xr-var-dims,\n",
              ".xr-var-dtype,\n",
              ".xr-preview,\n",
              ".xr-attrs dt {\n",
              "  white-space: nowrap;\n",
              "  overflow: hidden;\n",
              "  text-overflow: ellipsis;\n",
              "  padding-right: 10px;\n",
              "}\n",
              "\n",
              ".xr-var-name:hover,\n",
              ".xr-var-dims:hover,\n",
              ".xr-var-dtype:hover,\n",
              ".xr-attrs dt:hover {\n",
              "  overflow: visible;\n",
              "  width: auto;\n",
              "  z-index: 1;\n",
              "}\n",
              "\n",
              ".xr-var-attrs,\n",
              ".xr-var-data {\n",
              "  display: none;\n",
              "  background-color: var(--xr-background-color) !important;\n",
              "  padding-bottom: 5px !important;\n",
              "}\n",
              "\n",
              ".xr-var-attrs-in:checked ~ .xr-var-attrs,\n",
              ".xr-var-data-in:checked ~ .xr-var-data {\n",
              "  display: block;\n",
              "}\n",
              "\n",
              ".xr-var-data > table {\n",
              "  float: right;\n",
              "}\n",
              "\n",
              ".xr-var-name span,\n",
              ".xr-var-data,\n",
              ".xr-attrs {\n",
              "  padding-left: 25px !important;\n",
              "}\n",
              "\n",
              ".xr-attrs,\n",
              ".xr-var-attrs,\n",
              ".xr-var-data {\n",
              "  grid-column: 1 / -1;\n",
              "}\n",
              "\n",
              "dl.xr-attrs {\n",
              "  padding: 0;\n",
              "  margin: 0;\n",
              "  display: grid;\n",
              "  grid-template-columns: 125px auto;\n",
              "}\n",
              "\n",
              ".xr-attrs dt,\n",
              ".xr-attrs dd {\n",
              "  padding: 0;\n",
              "  margin: 0;\n",
              "  float: left;\n",
              "  padding-right: 10px;\n",
              "  width: auto;\n",
              "}\n",
              "\n",
              ".xr-attrs dt {\n",
              "  font-weight: normal;\n",
              "  grid-column: 1;\n",
              "}\n",
              "\n",
              ".xr-attrs dt:hover span {\n",
              "  display: inline-block;\n",
              "  background: var(--xr-background-color);\n",
              "  padding-right: 10px;\n",
              "}\n",
              "\n",
              ".xr-attrs dd {\n",
              "  grid-column: 2;\n",
              "  white-space: pre-wrap;\n",
              "  word-break: break-all;\n",
              "}\n",
              "\n",
              ".xr-icon-database,\n",
              ".xr-icon-file-text2 {\n",
              "  display: inline-block;\n",
              "  vertical-align: middle;\n",
              "  width: 1em;\n",
              "  height: 1.5em !important;\n",
              "  stroke-width: 0;\n",
              "  stroke: currentColor;\n",
              "  fill: currentColor;\n",
              "}\n",
              "</style><pre class='xr-text-repr-fallback'>&lt;xarray.DataArray (band: 1, y: 2152, x: 2447)&gt;\n",
              "[5265944 values with dtype=float32]\n",
              "Coordinates:\n",
              "  * band         (band) int64 1\n",
              "  * x            (x) float64 28.86 28.86 28.86 28.86 ... 30.9 30.9 30.9 30.9\n",
              "  * y            (y) float64 -1.048 -1.049 -1.049 -1.05 ... -2.839 -2.839 -2.84\n",
              "    spatial_ref  int64 0\n",
              "Attributes:\n",
              "    SourceBandIndex:         0\n",
              "    STATISTICS_COVARIANCES:  38.45201797487155\n",
              "    STATISTICS_MAXIMUM:      713.57940673828\n",
              "    STATISTICS_MEAN:         3.4174178740784\n",
              "    STATISTICS_MINIMUM:      0\n",
              "    STATISTICS_SKIPFACTORX:  1\n",
              "    STATISTICS_SKIPFACTORY:  1\n",
              "    STATISTICS_STDDEV:       6.2009691157811\n",
              "    scale_factor:            1.0\n",
              "    add_offset:              0.0</pre><div class='xr-wrap' hidden><div class='xr-header'><div class='xr-obj-type'>xarray.DataArray</div><div class='xr-array-name'></div><ul class='xr-dim-list'><li><span class='xr-has-index'>band</span>: 1</li><li><span class='xr-has-index'>y</span>: 2152</li><li><span class='xr-has-index'>x</span>: 2447</li></ul></div><ul class='xr-sections'><li class='xr-section-item'><div class='xr-array-wrap'><input id='section-fcb2cc5c-c5cd-4caf-a809-5f4118ff1ac7' class='xr-array-in' type='checkbox' checked><label for='section-fcb2cc5c-c5cd-4caf-a809-5f4118ff1ac7' title='Show/hide data repr'><svg class='icon xr-icon-database'><use xlink:href='#icon-database'></use></svg></label><div class='xr-array-preview xr-preview'><span>...</span></div><div class='xr-array-data'><pre>[5265944 values with dtype=float32]</pre></div></div></li><li class='xr-section-item'><input id='section-27a69263-24ab-4d34-bca5-92179f9c223f' class='xr-section-summary-in' type='checkbox'  checked><label for='section-27a69263-24ab-4d34-bca5-92179f9c223f' class='xr-section-summary' >Coordinates: <span>(4)</span></label><div class='xr-section-inline-details'></div><div class='xr-section-details'><ul class='xr-var-list'><li class='xr-var-item'><div class='xr-var-name'><span class='xr-has-index'>band</span></div><div class='xr-var-dims'>(band)</div><div class='xr-var-dtype'>int64</div><div class='xr-var-preview xr-preview'>1</div><input id='attrs-dd592857-d0ba-4d69-abfc-35f9e924016c' class='xr-var-attrs-in' type='checkbox' disabled><label for='attrs-dd592857-d0ba-4d69-abfc-35f9e924016c' title='Show/Hide attributes'><svg class='icon xr-icon-file-text2'><use xlink:href='#icon-file-text2'></use></svg></label><input id='data-f8c049b7-5271-4c49-a485-055d5158ed59' class='xr-var-data-in' type='checkbox'><label for='data-f8c049b7-5271-4c49-a485-055d5158ed59' title='Show/Hide data repr'><svg class='icon xr-icon-database'><use xlink:href='#icon-database'></use></svg></label><div class='xr-var-attrs'><dl class='xr-attrs'></dl></div><div class='xr-var-data'><pre>array([1])</pre></div></li><li class='xr-var-item'><div class='xr-var-name'><span class='xr-has-index'>x</span></div><div class='xr-var-dims'>(x)</div><div class='xr-var-dtype'>float64</div><div class='xr-var-preview xr-preview'>28.86 28.86 28.86 ... 30.9 30.9</div><input id='attrs-d5125f66-887c-4a4e-bb51-f188cb894440' class='xr-var-attrs-in' type='checkbox' disabled><label for='attrs-d5125f66-887c-4a4e-bb51-f188cb894440' title='Show/Hide attributes'><svg class='icon xr-icon-file-text2'><use xlink:href='#icon-file-text2'></use></svg></label><input id='data-fbe24b56-3d11-46b3-bedf-b41c5163b7d6' class='xr-var-data-in' type='checkbox'><label for='data-fbe24b56-3d11-46b3-bedf-b41c5163b7d6' title='Show/Hide data repr'><svg class='icon xr-icon-database'><use xlink:href='#icon-database'></use></svg></label><div class='xr-var-attrs'><dl class='xr-attrs'></dl></div><div class='xr-var-data'><pre>array([28.861341, 28.862174, 28.863008, ..., 30.897926, 30.89876 , 30.899593])</pre></div></li><li class='xr-var-item'><div class='xr-var-name'><span class='xr-has-index'>y</span></div><div class='xr-var-dims'>(y)</div><div class='xr-var-dtype'>float64</div><div class='xr-var-preview xr-preview'>-1.048 -1.049 ... -2.839 -2.84</div><input id='attrs-d5162411-ae7d-4300-9de8-7d05dcce71d4' class='xr-var-attrs-in' type='checkbox' disabled><label for='attrs-d5162411-ae7d-4300-9de8-7d05dcce71d4' title='Show/Hide attributes'><svg class='icon xr-icon-file-text2'><use xlink:href='#icon-file-text2'></use></svg></label><input id='data-723956ec-b50f-438a-9ef8-ecfbe7e22475' class='xr-var-data-in' type='checkbox'><label for='data-723956ec-b50f-438a-9ef8-ecfbe7e22475' title='Show/Hide data repr'><svg class='icon xr-icon-database'><use xlink:href='#icon-database'></use></svg></label><div class='xr-var-attrs'><dl class='xr-attrs'></dl></div><div class='xr-var-data'><pre>array([-1.047768, -1.048601, -1.049434, ..., -2.838529, -2.839363, -2.840196])</pre></div></li><li class='xr-var-item'><div class='xr-var-name'><span>spatial_ref</span></div><div class='xr-var-dims'>()</div><div class='xr-var-dtype'>int64</div><div class='xr-var-preview xr-preview'>0</div><input id='attrs-053d2426-7755-4fcb-9706-c030dca95232' class='xr-var-attrs-in' type='checkbox' ><label for='attrs-053d2426-7755-4fcb-9706-c030dca95232' title='Show/Hide attributes'><svg class='icon xr-icon-file-text2'><use xlink:href='#icon-file-text2'></use></svg></label><input id='data-d27a4ee9-945e-4f31-a392-f23e39e0b259' class='xr-var-data-in' type='checkbox'><label for='data-d27a4ee9-945e-4f31-a392-f23e39e0b259' title='Show/Hide data repr'><svg class='icon xr-icon-database'><use xlink:href='#icon-database'></use></svg></label><div class='xr-var-attrs'><dl class='xr-attrs'><dt><span>crs_wkt :</span></dt><dd>GEOGCS[&quot;WGS 84&quot;,DATUM[&quot;WGS_1984&quot;,SPHEROID[&quot;WGS 84&quot;,6378137,298.257223563,AUTHORITY[&quot;EPSG&quot;,&quot;7030&quot;]],AUTHORITY[&quot;EPSG&quot;,&quot;6326&quot;]],PRIMEM[&quot;Greenwich&quot;,0],UNIT[&quot;degree&quot;,0.0174532925199433,AUTHORITY[&quot;EPSG&quot;,&quot;9122&quot;]],AXIS[&quot;Latitude&quot;,NORTH],AXIS[&quot;Longitude&quot;,EAST],AUTHORITY[&quot;EPSG&quot;,&quot;4326&quot;]]</dd><dt><span>semi_major_axis :</span></dt><dd>6378137.0</dd><dt><span>semi_minor_axis :</span></dt><dd>6356752.314245179</dd><dt><span>inverse_flattening :</span></dt><dd>298.257223563</dd><dt><span>reference_ellipsoid_name :</span></dt><dd>WGS 84</dd><dt><span>longitude_of_prime_meridian :</span></dt><dd>0.0</dd><dt><span>prime_meridian_name :</span></dt><dd>Greenwich</dd><dt><span>geographic_crs_name :</span></dt><dd>WGS 84</dd><dt><span>grid_mapping_name :</span></dt><dd>latitude_longitude</dd><dt><span>spatial_ref :</span></dt><dd>GEOGCS[&quot;WGS 84&quot;,DATUM[&quot;WGS_1984&quot;,SPHEROID[&quot;WGS 84&quot;,6378137,298.257223563,AUTHORITY[&quot;EPSG&quot;,&quot;7030&quot;]],AUTHORITY[&quot;EPSG&quot;,&quot;6326&quot;]],PRIMEM[&quot;Greenwich&quot;,0],UNIT[&quot;degree&quot;,0.0174532925199433,AUTHORITY[&quot;EPSG&quot;,&quot;9122&quot;]],AXIS[&quot;Latitude&quot;,NORTH],AXIS[&quot;Longitude&quot;,EAST],AUTHORITY[&quot;EPSG&quot;,&quot;4326&quot;]]</dd><dt><span>GeoTransform :</span></dt><dd>28.86092439279428 0.0008333000000000005 0.0 -1.047351102958133 0.0 -0.0008333</dd></dl></div><div class='xr-var-data'><pre>array(0)</pre></div></li></ul></div></li><li class='xr-section-item'><input id='section-d7cbea67-6c69-4c48-b2d1-75470a1407f3' class='xr-section-summary-in' type='checkbox'  ><label for='section-d7cbea67-6c69-4c48-b2d1-75470a1407f3' class='xr-section-summary' >Attributes: <span>(10)</span></label><div class='xr-section-inline-details'></div><div class='xr-section-details'><dl class='xr-attrs'><dt><span>SourceBandIndex :</span></dt><dd>0</dd><dt><span>STATISTICS_COVARIANCES :</span></dt><dd>38.45201797487155</dd><dt><span>STATISTICS_MAXIMUM :</span></dt><dd>713.57940673828</dd><dt><span>STATISTICS_MEAN :</span></dt><dd>3.4174178740784</dd><dt><span>STATISTICS_MINIMUM :</span></dt><dd>0</dd><dt><span>STATISTICS_SKIPFACTORX :</span></dt><dd>1</dd><dt><span>STATISTICS_SKIPFACTORY :</span></dt><dd>1</dd><dt><span>STATISTICS_STDDEV :</span></dt><dd>6.2009691157811</dd><dt><span>scale_factor :</span></dt><dd>1.0</dd><dt><span>add_offset :</span></dt><dd>0.0</dd></dl></div></li></ul></div></div>"
            ]
          },
          "metadata": {},
          "execution_count": 12
        }
      ],
      "source": [
        "ppp"
      ]
    },
    {
      "cell_type": "markdown",
      "id": "486ee664-e782-4aec-a90c-72f29b35ae19",
      "metadata": {
        "id": "486ee664-e782-4aec-a90c-72f29b35ae19"
      },
      "source": [
        "You can also check coordinate systems using `.rio.crs` attribute."
      ]
    },
    {
      "cell_type": "code",
      "execution_count": 13,
      "id": "4fba075d-3e70-41fc-a24a-dac4ab8b4974",
      "metadata": {
        "id": "4fba075d-3e70-41fc-a24a-dac4ab8b4974",
        "outputId": "cef68706-c35e-4a2c-ecf1-f15f9efe9b20",
        "colab": {
          "base_uri": "https://localhost:8080/"
        }
      },
      "outputs": [
        {
          "output_type": "execute_result",
          "data": {
            "text/plain": [
              "CRS.from_epsg(4326)"
            ]
          },
          "metadata": {},
          "execution_count": 13
        }
      ],
      "source": [
        "ppp.rio.crs"
      ]
    },
    {
      "cell_type": "code",
      "execution_count": 14,
      "id": "5e15c9c7-d181-4c98-a8d2-b28f80232d29",
      "metadata": {
        "id": "5e15c9c7-d181-4c98-a8d2-b28f80232d29",
        "outputId": "5bc547c7-8adc-4cc2-c3e8-75fc127f068f",
        "colab": {
          "base_uri": "https://localhost:8080/"
        }
      },
      "outputs": [
        {
          "output_type": "execute_result",
          "data": {
            "text/plain": [
              "CRS.from_wkt('PROJCS[\"WGS_1984_Transverse_Mercator\",GEOGCS[\"WGS 84\",DATUM[\"WGS_1984\",SPHEROID[\"WGS 84\",6378137,298.257223563,AUTHORITY[\"EPSG\",\"7030\"]],AUTHORITY[\"EPSG\",\"6326\"]],PRIMEM[\"Greenwich\",0],UNIT[\"degree\",0.0174532925199433,AUTHORITY[\"EPSG\",\"9122\"]],AUTHORITY[\"EPSG\",\"4326\"]],PROJECTION[\"Transverse_Mercator\"],PARAMETER[\"latitude_of_origin\",0],PARAMETER[\"central_meridian\",30],PARAMETER[\"scale_factor\",0.9996],PARAMETER[\"false_easting\",500000],PARAMETER[\"false_northing\",10000000],UNIT[\"metre\",1,AUTHORITY[\"EPSG\",\"9001\"]],AXIS[\"Easting\",EAST],AXIS[\"Northing\",NORTH]]')"
            ]
          },
          "metadata": {},
          "execution_count": 14
        }
      ],
      "source": [
        "pph.rio.crs"
      ]
    },
    {
      "cell_type": "markdown",
      "id": "b637c648-2544-4f1d-99de-5e98aea7fe56",
      "metadata": {
        "id": "b637c648-2544-4f1d-99de-5e98aea7fe56"
      },
      "source": [
        "Notice how the coordinate reference systems are different and given in a standardized text format known as PROJ.4 (even if using the more updated PROJ.6 format). For the `ppp` dataset, it is the unprojected (meaning its units are in degrees of latitude and longitude) coordinate system WGS 1984. For the pph dataset, the coordinate reference system notes that it is in the datum of WGS 1984, but it is projected as a transverse Mercatorwhose origin latitude is +30° and has units in meters, that this dataset is a custom Universal Transverse Mercator (UTM) projection that lies between the “standard” UTM zones 35 and 36 (http://www.dmap.co.uk/utmworld.htm).\n",
        "\n",
        "Also given here is information regarding the spatial resolution (resolution), the area size on the ground each pixel represents, of the rasters. We can see the ppp data has a value of (`0.0008333`,`0.0008333`) for the x and y-axes and similarly the `pph` dataset has (`100`,`100`). These values are the length and width of each pixel in the units of their coord. ref., meaning the ppp dataset has pixels with area equal to 0.0008333° x 0.0008333° and the `pph` dataset has pixels with area equal to 100m x 100x (0.1km sq also known as a “hectare”).\n",
        "\n",
        "These differences have some implication for users. Because WGS 1984 is a spherical representation of the surface of Earth, one degree of latitude becomes smaller the further away you move from the Equator. This means that the southernmost pixel in the Rwanda ppp population dataset represents and area smaller than the northernmost pixel in the same dataset! The reverse is true for datasets north of the Equator. The pixels of the `ppp` (0.0008333°) and `pph` (100m) datasets represent approximately the same area at the Equator. Within a given dataset, the issue of unprojected pixels representing smaller areas the further from the Equator is a relatively larger problem for countries that cover a wide range of latitudes, Chile for example, if we were to calculate population densities directly from the `ppp` dataset without accounting for the above issues.\n",
        "\n",
        "## Proper Resampling and Aggregating of pph\n",
        "Let’s say you wish to have the pph population density data have a different population density per unit area to match other data, for example people per sq. km, but still have every pixel be 100m x 100m. This is a simple algebraic unit conversion. Let’s say we had a pixel with a value of 5.5 people per hectare and wanted to know the equivalent in sq. km. Given that one hectare is 0.01 sq km we use the equation:\n",
        "\n",
        "$$\\text{people per km}^2 = \\frac{5.5 \\text{ people}}{1 \\text{ hectare}} * \\frac{1 \\text{ hectare}}{0.01 \\text{ km}^2}$$\n",
        "\n",
        "The second element of the equation is what is known as a _conversion factor_. Thankfully, Python and the `xarray` package allow for super simple commands for doing this sort of “Raster Math” across every pixel in the raster at once. Type and execute the following command:\n"
      ]
    },
    {
      "cell_type": "code",
      "execution_count": 15,
      "id": "98fdee7c-a981-4439-a937-597b61485a6c",
      "metadata": {
        "id": "98fdee7c-a981-4439-a937-597b61485a6c"
      },
      "outputs": [],
      "source": [
        "ppk = pph / 0.01"
      ]
    },
    {
      "cell_type": "markdown",
      "id": "d5b7648e-7103-4c9f-b33c-400d18523e0a",
      "metadata": {
        "id": "d5b7648e-7103-4c9f-b33c-400d18523e0a"
      },
      "source": [
        "Simple, right? Let’s see how the values changed by typing and executing the following commands in order to compare the two raster’s distribution of values. Here we’ll create two overlapping density curves (similar to histograms) of the `pph`, in blue, and the `ppk` data, in red."
      ]
    },
    {
      "cell_type": "markdown",
      "id": "59ed4a0d-2f01-4906-a990-7fda4b93ed78",
      "metadata": {
        "id": "59ed4a0d-2f01-4906-a990-7fda4b93ed78"
      },
      "source": [
        "    Note: xarray does not have built-in density plotting {raster} package in R has. We can do histogram or pass it via pandas to get a similar plot."
      ]
    },
    {
      "cell_type": "code",
      "execution_count": 16,
      "id": "7151a3cf-27b3-4a51-84e6-ed789aaac36d",
      "metadata": {
        "id": "7151a3cf-27b3-4a51-84e6-ed789aaac36d"
      },
      "outputs": [],
      "source": [
        "# import pandas\n",
        "\n",
        "# ax = pandas.Series(pph[0].values.flatten()).plot.kde()\n",
        "# pandas.Series(ppk[0].values.flatten()).plot.kde(ax=ax, color='red')\n",
        "# ax.set_xlim(-10, 1000)"
      ]
    },
    {
      "cell_type": "markdown",
      "id": "9938baa2-024e-46e2-8a8f-a98eb34440f0",
      "metadata": {
        "id": "9938baa2-024e-46e2-8a8f-a98eb34440f0"
      },
      "source": [
        "or by calling the two rasters themselves to look at their range of values."
      ]
    },
    {
      "cell_type": "code",
      "execution_count": 17,
      "id": "241ca415-3a3c-45ce-8823-133874984ab5",
      "metadata": {
        "id": "241ca415-3a3c-45ce-8823-133874984ab5",
        "outputId": "5b45b2dd-a5c1-429b-ebfe-a597e53684d3",
        "colab": {
          "base_uri": "https://localhost:8080/"
        }
      },
      "outputs": [
        {
          "output_type": "execute_result",
          "data": {
            "text/plain": [
              "(<xarray.DataArray ()>\n",
              " array(0.)\n",
              " Coordinates:\n",
              "     spatial_ref  int64 0, <xarray.DataArray ()>\n",
              " array(976.42547607)\n",
              " Coordinates:\n",
              "     spatial_ref  int64 0)"
            ]
          },
          "metadata": {},
          "execution_count": 17
        }
      ],
      "source": [
        "pph.min(), pph.max()"
      ]
    },
    {
      "cell_type": "code",
      "execution_count": 18,
      "id": "8a823418-970d-4dea-afc0-7628170bc8b6",
      "metadata": {
        "id": "8a823418-970d-4dea-afc0-7628170bc8b6",
        "outputId": "d52c9df6-f6bb-4546-ec45-38970b5f98d0",
        "colab": {
          "base_uri": "https://localhost:8080/"
        }
      },
      "outputs": [
        {
          "output_type": "execute_result",
          "data": {
            "text/plain": [
              "(<xarray.DataArray ()>\n",
              " array(0.)\n",
              " Coordinates:\n",
              "     spatial_ref  int64 0, <xarray.DataArray ()>\n",
              " array(97642.546875)\n",
              " Coordinates:\n",
              "     spatial_ref  int64 0)"
            ]
          },
          "metadata": {},
          "execution_count": 18
        }
      ],
      "source": [
        "ppk.min(), ppk.max()"
      ]
    },
    {
      "cell_type": "markdown",
      "id": "9465b52b-efa8-4bbc-bc6e-47cf7fdbab3e",
      "metadata": {
        "id": "9465b52b-efa8-4bbc-bc6e-47cf7fdbab3e"
      },
      "source": [
        "We can see that the values shifted in scale to much larger ones in the `ppk` data (by a factor of 100). Additionally, this served to spread the distribution of the `pph` values across a larger range in the `ppk` data, which is reflected in the *almost* flat red line of the density plots.The red curve appears flat only because of the scale of the plot, but is actually has a slight convex curve with a local maximum around 220 on the x-axis. The pixels are still only 100m x 100m (0.01 sq km), but the units of population density in the `ppk` data are different.\n",
        "\n",
        "This approach can be used to convert to any area unit desired for the population density; all that is needed is the correct conversion factor.\n",
        "\n",
        "But what if you need to have your population density data at a coarser resolution to match another dataset? Let’s say you have some data on urban extents at 1 sq. km resolution and need to have your population density information at the same spatial resolution. Here we can use the `xarray` method `coarsen()`. This method takes your original raster and aggregates the pixels into larger pixels using a specified mathematical function to aggregate the many values into 1 value per new, larger pixel. Type and execute `help(pph.coarsen)` in the interactive window for more function information.\n",
        "\n",
        "Let's aggregate the `pph` data into pixels that are actually 1 sq. km in resolution."
      ]
    },
    {
      "cell_type": "code",
      "execution_count": 22,
      "id": "0a92a3b6-46b5-47b8-a4c8-a33bdb7b7d5b",
      "metadata": {
        "id": "0a92a3b6-46b5-47b8-a4c8-a33bdb7b7d5b"
      },
      "outputs": [],
      "source": [
        "pph_1k = pph.coarsen(dict(x=10, y=10), boundary=\"pad\").mean()"
      ]
    },
    {
      "cell_type": "markdown",
      "id": "af39e140-6a91-49d0-adb9-f41eb48b34ac",
      "metadata": {
        "id": "af39e140-6a91-49d0-adb9-f41eb48b34ac"
      },
      "source": [
        "Visually compare the `pph` raster and the `pph_1k` raster by using the plot function.\n"
      ]
    },
    {
      "cell_type": "code",
      "execution_count": 23,
      "id": "fcefcf4a-c666-4ae1-bb57-38ed9250e69e",
      "metadata": {
        "id": "fcefcf4a-c666-4ae1-bb57-38ed9250e69e",
        "outputId": "e65d2f84-9247-4fcc-a4f5-989f4c02c6f1",
        "colab": {
          "base_uri": "https://localhost:8080/",
          "height": 367
        }
      },
      "outputs": [
        {
          "output_type": "execute_result",
          "data": {
            "text/plain": [
              "<matplotlib.collections.QuadMesh at 0x7fdd1d173ad0>"
            ]
          },
          "metadata": {},
          "execution_count": 23
        },
        {
          "output_type": "display_data",
          "data": {
            "text/plain": [
              "<Figure size 1008x360 with 4 Axes>"
            ],
            "image/png": "[encoded data removed]"
          },
          "metadata": {
            "needs_background": "light"
          }
        }
      ],
      "source": [
        "fig, axs = plt.subplots(1, 2, figsize=(14, 5))\n",
        "\n",
        "pph.plot(ax=axs[0])\n",
        "pph_1k.plot(ax=axs[1])"
      ]
    },
    {
      "cell_type": "markdown",
      "id": "b74325bb-a90a-4b85-b04c-4b91a535b5dd",
      "metadata": {
        "id": "b74325bb-a90a-4b85-b04c-4b91a535b5dd"
      },
      "source": [
        "You should now have a data set with a spatial resolution/cell size of 1000m x 1000m (check the layer properties to ensure). What are the units of this new raster’s values though? Because we had `xarray` take the average or mean of the input data (`pph`), every pixel in the output dataset represents the average people per hectare of the input cells. If you desired people per sq. km at 1 sq. km resolution, then the conversion procedure would also need to be done either prior to aggregation.\n",
        "\n",
        "Note: Be aware of the modifiable areal unit problem (MAUP) when aggregating. See Openshaw [-@Openshaw1984] for more information.\n",
        "\n",
        "Alternatively, you can resample to change the resolution of the data, although there are serious caveats with this if you resample to a smaller spatial resolution since that would be disaggregating without any corresponding finer scale information, as with dasymetric disaggregation (See Section 4), and therefore committing an _ecological fallacy_.\n",
        "\n",
        "Let’s say you need to resample to ~300m resolution to match some projected European Space Agency Climate Change Initiative land cover data. We will use the `reproject_match()` function from the `rioxarray` package to do this. Deciding what resampling method to use, bilinear or bicubic, is based upon use and preference. See [here](http://desktop.arcgis.com/en/arcmap/latest/extensions/spatial-analyst/performing-analysis/cell-size-and-resampling-in-analysis.htm) for a visual description of how the resampling methods work. Because our data are continuous we will use bilinear interpolation.\n",
        "\n",
        "`rioxarray` allows to have a raster that already has the desired resolution to use as a “template” for converting your input dataset. In this scenario we can just give it the landcover dataset.\n",
        "\n",
        "Type and execute the following to load the landcover raster:"
      ]
    },
    {
      "cell_type": "code",
      "execution_count": 21,
      "id": "eb7bf67a-0df6-4f73-81d0-df8305f49117",
      "metadata": {
        "id": "eb7bf67a-0df6-4f73-81d0-df8305f49117",
        "outputId": "8d705f98-7aba-41ca-a1a7-3b28ff1867b2",
        "colab": {
          "base_uri": "https://localhost:8080/",
          "height": 658
        }
      },
      "outputs": [
        {
          "output_type": "error",
          "ename": "RasterioIOError",
          "evalue": "ignored",
          "traceback": [
            "\u001b[0;31m---------------------------------------------------------------------------\u001b[0m",
            "\u001b[0;31mKeyError\u001b[0m                                  Traceback (most recent call last)",
            "\u001b[0;32m/usr/local/lib/python3.7/dist-packages/xarray/backends/file_manager.py\u001b[0m in \u001b[0;36m_acquire_with_cache_info\u001b[0;34m(self, needs_lock)\u001b[0m\n\u001b[1;32m    198\u001b[0m             \u001b[0;32mtry\u001b[0m\u001b[0;34m:\u001b[0m\u001b[0;34m\u001b[0m\u001b[0;34m\u001b[0m\u001b[0m\n\u001b[0;32m--> 199\u001b[0;31m                 \u001b[0mfile\u001b[0m \u001b[0;34m=\u001b[0m \u001b[0mself\u001b[0m\u001b[0;34m.\u001b[0m\u001b[0m_cache\u001b[0m\u001b[0;34m[\u001b[0m\u001b[0mself\u001b[0m\u001b[0;34m.\u001b[0m\u001b[0m_key\u001b[0m\u001b[0;34m]\u001b[0m\u001b[0;34m\u001b[0m\u001b[0;34m\u001b[0m\u001b[0m\n\u001b[0m\u001b[1;32m    200\u001b[0m             \u001b[0;32mexcept\u001b[0m \u001b[0mKeyError\u001b[0m\u001b[0;34m:\u001b[0m\u001b[0;34m\u001b[0m\u001b[0;34m\u001b[0m\u001b[0m\n",
            "\u001b[0;32m/usr/local/lib/python3.7/dist-packages/xarray/backends/lru_cache.py\u001b[0m in \u001b[0;36m__getitem__\u001b[0;34m(self, key)\u001b[0m\n\u001b[1;32m     52\u001b[0m         \u001b[0;32mwith\u001b[0m \u001b[0mself\u001b[0m\u001b[0;34m.\u001b[0m\u001b[0m_lock\u001b[0m\u001b[0;34m:\u001b[0m\u001b[0;34m\u001b[0m\u001b[0;34m\u001b[0m\u001b[0m\n\u001b[0;32m---> 53\u001b[0;31m             \u001b[0mvalue\u001b[0m \u001b[0;34m=\u001b[0m \u001b[0mself\u001b[0m\u001b[0;34m.\u001b[0m\u001b[0m_cache\u001b[0m\u001b[0;34m[\u001b[0m\u001b[0mkey\u001b[0m\u001b[0;34m]\u001b[0m\u001b[0;34m\u001b[0m\u001b[0;34m\u001b[0m\u001b[0m\n\u001b[0m\u001b[1;32m     54\u001b[0m             \u001b[0mself\u001b[0m\u001b[0;34m.\u001b[0m\u001b[0m_cache\u001b[0m\u001b[0;34m.\u001b[0m\u001b[0mmove_to_end\u001b[0m\u001b[0;34m(\u001b[0m\u001b[0mkey\u001b[0m\u001b[0;34m)\u001b[0m\u001b[0;34m\u001b[0m\u001b[0;34m\u001b[0m\u001b[0m\n",
            "\u001b[0;31mKeyError\u001b[0m: [<function open at 0x7fdd342fef80>, ('../data/SectionI/rwa_lc_300_projected.tif',), 'r', (('sharing', False),)]",
            "\nDuring handling of the above exception, another exception occurred:\n",
            "\u001b[0;31mCPLE_OpenFailedError\u001b[0m                      Traceback (most recent call last)",
            "\u001b[0;32mrasterio/_base.pyx\u001b[0m in \u001b[0;36mrasterio._base.DatasetBase.__init__\u001b[0;34m()\u001b[0m\n",
            "\u001b[0;32mrasterio/_shim.pyx\u001b[0m in \u001b[0;36mrasterio._shim.open_dataset\u001b[0;34m()\u001b[0m\n",
            "\u001b[0;32mrasterio/_err.pyx\u001b[0m in \u001b[0;36mrasterio._err.exc_wrap_pointer\u001b[0;34m()\u001b[0m\n",
            "\u001b[0;31mCPLE_OpenFailedError\u001b[0m: ../data/SectionI/rwa_lc_300_projected.tif: No such file or directory",
            "\nDuring handling of the above exception, another exception occurred:\n",
            "\u001b[0;31mRasterioIOError\u001b[0m                           Traceback (most recent call last)",
            "\u001b[0;32m<ipython-input-21-b32e209592d0>\u001b[0m in \u001b[0;36m<module>\u001b[0;34m()\u001b[0m\n\u001b[0;32m----> 1\u001b[0;31m \u001b[0mrwa_lc_300\u001b[0m \u001b[0;34m=\u001b[0m \u001b[0mrioxarray\u001b[0m\u001b[0;34m.\u001b[0m\u001b[0mopen_rasterio\u001b[0m\u001b[0;34m(\u001b[0m\u001b[0;34m\"../data/SectionI/rwa_lc_300_projected.tif\"\u001b[0m\u001b[0;34m)\u001b[0m\u001b[0;34m\u001b[0m\u001b[0;34m\u001b[0m\u001b[0m\n\u001b[0m",
            "\u001b[0;32m/usr/local/lib/python3.7/dist-packages/rioxarray/_io.py\u001b[0m in \u001b[0;36mopen_rasterio\u001b[0;34m(filename, parse_coordinates, chunks, cache, lock, masked, mask_and_scale, variable, group, default_name, decode_times, decode_timedelta, **open_kwargs)\u001b[0m\n\u001b[1;32m    831\u001b[0m         \u001b[0;32melse\u001b[0m\u001b[0;34m:\u001b[0m\u001b[0;34m\u001b[0m\u001b[0;34m\u001b[0m\u001b[0m\n\u001b[1;32m    832\u001b[0m             \u001b[0mmanager\u001b[0m \u001b[0;34m=\u001b[0m \u001b[0mURIManager\u001b[0m\u001b[0;34m(\u001b[0m\u001b[0mrasterio\u001b[0m\u001b[0;34m.\u001b[0m\u001b[0mopen\u001b[0m\u001b[0;34m,\u001b[0m \u001b[0mfilename\u001b[0m\u001b[0;34m,\u001b[0m \u001b[0mmode\u001b[0m\u001b[0;34m=\u001b[0m\u001b[0;34m\"r\"\u001b[0m\u001b[0;34m,\u001b[0m \u001b[0mkwargs\u001b[0m\u001b[0;34m=\u001b[0m\u001b[0mopen_kwargs\u001b[0m\u001b[0;34m)\u001b[0m\u001b[0;34m\u001b[0m\u001b[0;34m\u001b[0m\u001b[0m\n\u001b[0;32m--> 833\u001b[0;31m         \u001b[0mriods\u001b[0m \u001b[0;34m=\u001b[0m \u001b[0mmanager\u001b[0m\u001b[0;34m.\u001b[0m\u001b[0macquire\u001b[0m\u001b[0;34m(\u001b[0m\u001b[0;34m)\u001b[0m\u001b[0;34m\u001b[0m\u001b[0;34m\u001b[0m\u001b[0m\n\u001b[0m\u001b[1;32m    834\u001b[0m         \u001b[0mcaptured_warnings\u001b[0m \u001b[0;34m=\u001b[0m \u001b[0mrio_warnings\u001b[0m\u001b[0;34m.\u001b[0m\u001b[0mcopy\u001b[0m\u001b[0;34m(\u001b[0m\u001b[0;34m)\u001b[0m\u001b[0;34m\u001b[0m\u001b[0;34m\u001b[0m\u001b[0m\n\u001b[1;32m    835\u001b[0m \u001b[0;34m\u001b[0m\u001b[0m\n",
            "\u001b[0;32m/usr/local/lib/python3.7/dist-packages/xarray/backends/file_manager.py\u001b[0m in \u001b[0;36macquire\u001b[0;34m(self, needs_lock)\u001b[0m\n\u001b[1;32m    179\u001b[0m             \u001b[0mAn\u001b[0m \u001b[0mopen\u001b[0m \u001b[0mfile\u001b[0m \u001b[0mobject\u001b[0m\u001b[0;34m,\u001b[0m \u001b[0;32mas\u001b[0m \u001b[0mreturned\u001b[0m \u001b[0mby\u001b[0m\u001b[0;31m \u001b[0m\u001b[0;31m`\u001b[0m\u001b[0;31m`\u001b[0m\u001b[0mopener\u001b[0m\u001b[0;34m(\u001b[0m\u001b[0;34m*\u001b[0m\u001b[0margs\u001b[0m\u001b[0;34m,\u001b[0m \u001b[0;34m**\u001b[0m\u001b[0mkwargs\u001b[0m\u001b[0;34m)\u001b[0m\u001b[0;31m`\u001b[0m\u001b[0;31m`\u001b[0m\u001b[0;34m.\u001b[0m\u001b[0;34m\u001b[0m\u001b[0;34m\u001b[0m\u001b[0m\n\u001b[1;32m    180\u001b[0m         \"\"\"\n\u001b[0;32m--> 181\u001b[0;31m         \u001b[0mfile\u001b[0m\u001b[0;34m,\u001b[0m \u001b[0m_\u001b[0m \u001b[0;34m=\u001b[0m \u001b[0mself\u001b[0m\u001b[0;34m.\u001b[0m\u001b[0m_acquire_with_cache_info\u001b[0m\u001b[0;34m(\u001b[0m\u001b[0mneeds_lock\u001b[0m\u001b[0;34m)\u001b[0m\u001b[0;34m\u001b[0m\u001b[0;34m\u001b[0m\u001b[0m\n\u001b[0m\u001b[1;32m    182\u001b[0m         \u001b[0;32mreturn\u001b[0m \u001b[0mfile\u001b[0m\u001b[0;34m\u001b[0m\u001b[0;34m\u001b[0m\u001b[0m\n\u001b[1;32m    183\u001b[0m \u001b[0;34m\u001b[0m\u001b[0m\n",
            "\u001b[0;32m/usr/local/lib/python3.7/dist-packages/xarray/backends/file_manager.py\u001b[0m in \u001b[0;36m_acquire_with_cache_info\u001b[0;34m(self, needs_lock)\u001b[0m\n\u001b[1;32m    203\u001b[0m                     \u001b[0mkwargs\u001b[0m \u001b[0;34m=\u001b[0m \u001b[0mkwargs\u001b[0m\u001b[0;34m.\u001b[0m\u001b[0mcopy\u001b[0m\u001b[0;34m(\u001b[0m\u001b[0;34m)\u001b[0m\u001b[0;34m\u001b[0m\u001b[0;34m\u001b[0m\u001b[0m\n\u001b[1;32m    204\u001b[0m                     \u001b[0mkwargs\u001b[0m\u001b[0;34m[\u001b[0m\u001b[0;34m\"mode\"\u001b[0m\u001b[0;34m]\u001b[0m \u001b[0;34m=\u001b[0m \u001b[0mself\u001b[0m\u001b[0;34m.\u001b[0m\u001b[0m_mode\u001b[0m\u001b[0;34m\u001b[0m\u001b[0;34m\u001b[0m\u001b[0m\n\u001b[0;32m--> 205\u001b[0;31m                 \u001b[0mfile\u001b[0m \u001b[0;34m=\u001b[0m \u001b[0mself\u001b[0m\u001b[0;34m.\u001b[0m\u001b[0m_opener\u001b[0m\u001b[0;34m(\u001b[0m\u001b[0;34m*\u001b[0m\u001b[0mself\u001b[0m\u001b[0;34m.\u001b[0m\u001b[0m_args\u001b[0m\u001b[0;34m,\u001b[0m \u001b[0;34m**\u001b[0m\u001b[0mkwargs\u001b[0m\u001b[0;34m)\u001b[0m\u001b[0;34m\u001b[0m\u001b[0;34m\u001b[0m\u001b[0m\n\u001b[0m\u001b[1;32m    206\u001b[0m                 \u001b[0;32mif\u001b[0m \u001b[0mself\u001b[0m\u001b[0;34m.\u001b[0m\u001b[0m_mode\u001b[0m \u001b[0;34m==\u001b[0m \u001b[0;34m\"w\"\u001b[0m\u001b[0;34m:\u001b[0m\u001b[0;34m\u001b[0m\u001b[0;34m\u001b[0m\u001b[0m\n\u001b[1;32m    207\u001b[0m                     \u001b[0;31m# ensure file doesn't get overriden when opened again\u001b[0m\u001b[0;34m\u001b[0m\u001b[0;34m\u001b[0m\u001b[0;34m\u001b[0m\u001b[0m\n",
            "\u001b[0;32m/usr/local/lib/python3.7/dist-packages/rasterio/env.py\u001b[0m in \u001b[0;36mwrapper\u001b[0;34m(*args, **kwds)\u001b[0m\n\u001b[1;32m    435\u001b[0m \u001b[0;34m\u001b[0m\u001b[0m\n\u001b[1;32m    436\u001b[0m         \u001b[0;32mwith\u001b[0m \u001b[0menv_ctor\u001b[0m\u001b[0;34m(\u001b[0m\u001b[0msession\u001b[0m\u001b[0;34m=\u001b[0m\u001b[0msession\u001b[0m\u001b[0;34m)\u001b[0m\u001b[0;34m:\u001b[0m\u001b[0;34m\u001b[0m\u001b[0;34m\u001b[0m\u001b[0m\n\u001b[0;32m--> 437\u001b[0;31m             \u001b[0;32mreturn\u001b[0m \u001b[0mf\u001b[0m\u001b[0;34m(\u001b[0m\u001b[0;34m*\u001b[0m\u001b[0margs\u001b[0m\u001b[0;34m,\u001b[0m \u001b[0;34m**\u001b[0m\u001b[0mkwds\u001b[0m\u001b[0;34m)\u001b[0m\u001b[0;34m\u001b[0m\u001b[0;34m\u001b[0m\u001b[0m\n\u001b[0m\u001b[1;32m    438\u001b[0m \u001b[0;34m\u001b[0m\u001b[0m\n\u001b[1;32m    439\u001b[0m     \u001b[0;32mreturn\u001b[0m \u001b[0mwrapper\u001b[0m\u001b[0;34m\u001b[0m\u001b[0;34m\u001b[0m\u001b[0m\n",
            "\u001b[0;32m/usr/local/lib/python3.7/dist-packages/rasterio/__init__.py\u001b[0m in \u001b[0;36mopen\u001b[0;34m(fp, mode, driver, width, height, count, crs, transform, dtype, nodata, sharing, **kwargs)\u001b[0m\n\u001b[1;32m    218\u001b[0m         \u001b[0;31m# None.\u001b[0m\u001b[0;34m\u001b[0m\u001b[0;34m\u001b[0m\u001b[0;34m\u001b[0m\u001b[0m\n\u001b[1;32m    219\u001b[0m         \u001b[0;32mif\u001b[0m \u001b[0mmode\u001b[0m \u001b[0;34m==\u001b[0m \u001b[0;34m'r'\u001b[0m\u001b[0;34m:\u001b[0m\u001b[0;34m\u001b[0m\u001b[0;34m\u001b[0m\u001b[0m\n\u001b[0;32m--> 220\u001b[0;31m             \u001b[0ms\u001b[0m \u001b[0;34m=\u001b[0m \u001b[0mDatasetReader\u001b[0m\u001b[0;34m(\u001b[0m\u001b[0mpath\u001b[0m\u001b[0;34m,\u001b[0m \u001b[0mdriver\u001b[0m\u001b[0;34m=\u001b[0m\u001b[0mdriver\u001b[0m\u001b[0;34m,\u001b[0m \u001b[0msharing\u001b[0m\u001b[0;34m=\u001b[0m\u001b[0msharing\u001b[0m\u001b[0;34m,\u001b[0m \u001b[0;34m**\u001b[0m\u001b[0mkwargs\u001b[0m\u001b[0;34m)\u001b[0m\u001b[0;34m\u001b[0m\u001b[0;34m\u001b[0m\u001b[0m\n\u001b[0m\u001b[1;32m    221\u001b[0m         \u001b[0;32melif\u001b[0m \u001b[0mmode\u001b[0m \u001b[0;34m==\u001b[0m \u001b[0;34m\"r+\"\u001b[0m\u001b[0;34m:\u001b[0m\u001b[0;34m\u001b[0m\u001b[0;34m\u001b[0m\u001b[0m\n\u001b[1;32m    222\u001b[0m             s = get_writer_for_path(path, driver=driver)(\n",
            "\u001b[0;32mrasterio/_base.pyx\u001b[0m in \u001b[0;36mrasterio._base.DatasetBase.__init__\u001b[0;34m()\u001b[0m\n",
            "\u001b[0;31mRasterioIOError\u001b[0m: ../data/SectionI/rwa_lc_300_projected.tif: No such file or directory"
          ]
        }
      ],
      "source": [
        "rwa_lc_300 = rioxarray.open_rasterio(\"../data/SectionI/rwa_lc_300_projected.tif\")"
      ]
    },
    {
      "cell_type": "code",
      "execution_count": null,
      "id": "ccd803a4-f9f8-4810-8c93-08fc6725060d",
      "metadata": {
        "id": "ccd803a4-f9f8-4810-8c93-08fc6725060d"
      },
      "outputs": [],
      "source": [
        "# rwa_lc_300 = rioxarray.open_rasterio(\"https://github.com/jjniev01/GISRUK_Dasy/raw/main/data/SectionI/rwa_lc_300_projected.tif\")"
      ]
    },
    {
      "cell_type": "markdown",
      "id": "ef84ebc9-589f-43f2-bc45-ced03d41bc53",
      "metadata": {
        "id": "ef84ebc9-589f-43f2-bc45-ced03d41bc53"
      },
      "source": [
        "Then type and execute the following to carry out the resample:"
      ]
    },
    {
      "cell_type": "code",
      "execution_count": null,
      "id": "624695ba-99e2-4d7d-b93a-25e448cce9f1",
      "metadata": {
        "id": "624695ba-99e2-4d7d-b93a-25e448cce9f1"
      },
      "outputs": [],
      "source": [
        "from rasterio.enums import Resampling\n",
        "\n",
        "pph_300m = pph.rio.reproject_match(rwa_lc_300, resampling=Resampling.bilinear)"
      ]
    },
    {
      "cell_type": "markdown",
      "id": "d9f4a2ce-4291-4f9d-a9d3-a621421f07de",
      "metadata": {
        "id": "d9f4a2ce-4291-4f9d-a9d3-a621421f07de"
      },
      "source": [
        "Use the plot function to see how the results carried out."
      ]
    },
    {
      "cell_type": "code",
      "execution_count": null,
      "id": "47eae787-b721-4bc5-a5ab-4ca10cd9bf27",
      "metadata": {
        "id": "47eae787-b721-4bc5-a5ab-4ca10cd9bf27"
      },
      "outputs": [],
      "source": [
        "pph_300m.plot()"
      ]
    },
    {
      "cell_type": "markdown",
      "id": "a2b626f3-03d7-4f23-bf48-f2451da52889",
      "metadata": {
        "id": "a2b626f3-03d7-4f23-bf48-f2451da52889"
      },
      "source": [
        "Take caution, if you do any of the above with the population count data, once you have aggregated, using `sum()`, or by resampling, they will no longer add back up to the population total of the census-based unit they were disaggregated from! That eliminates a key advantage and property of dasymetric mapping -- its \"volume preserving\" characteristic.\n",
        "\n",
        "##  Going from ppp to Spatially Projected Population Density\n",
        "So, we've seen how to do some manipulations with the pph-formatted data. But what if we have unprojected ppp-formatted data and we want to acqurie gridded population data where our values correspond to some populaiton density?\n",
        "\n",
        "The key is the pixel area grid dataset that is provided with this dataset. The pixel area raster is a 0.0008333° resolution dataset whose pixel values represent the area of a given pixel in square meters. This means that if we have the spatially aligned ppp dataset, it becomes another simple algebra problem using raster math where:\n",
        "\n",
        "$$\\text{population density in pixel }i = (\\text{population count}_i)/(\\text{pixel area}_i)$$\n",
        "\n",
        "\n",
        "First we need to get a raster where each pixel contains the value of the its area in some squared linear units. You can either try to compute area for each (spherical) pixel, or reproject the raster to a local UTM zone to work with meters."
      ]
    },
    {
      "cell_type": "code",
      "execution_count": null,
      "id": "4c1e8efe-051c-4cb8-b504-c18b53f3206f",
      "metadata": {
        "id": "4c1e8efe-051c-4cb8-b504-c18b53f3206f"
      },
      "outputs": [],
      "source": [
        "ppp_rwa = rioxarray.open_rasterio(\"../data/SectionI/ppp_prj_2002_RWA.tif\", masked=True)"
      ]
    },
    {
      "cell_type": "code",
      "execution_count": null,
      "id": "a0313659-cc4a-4f7b-8d7e-72756ce8a5b6",
      "metadata": {
        "id": "a0313659-cc4a-4f7b-8d7e-72756ce8a5b6"
      },
      "outputs": [],
      "source": [
        "# ppp_rwa = rioxarray.open_rasterio(\"https://github.com/jjniev01/GISRUK_Dasy/raw/main/data/SectionI/ppp_prj_2002_RWA.tif\", masked=True)"
      ]
    },
    {
      "cell_type": "markdown",
      "id": "ecb4fe95-5b81-4138-b3ce-f6a10ad68d59",
      "metadata": {
        "id": "ecb4fe95-5b81-4138-b3ce-f6a10ad68d59"
      },
      "source": [
        "We can use `pyproj` to estimate an UTM zone unless we know it a priori."
      ]
    },
    {
      "cell_type": "code",
      "execution_count": null,
      "id": "04c58230-9963-4143-9bf0-88a30f53f88e",
      "metadata": {
        "id": "04c58230-9963-4143-9bf0-88a30f53f88e"
      },
      "outputs": [],
      "source": [
        "from pyproj.aoi import AreaOfInterest\n",
        "from pyproj.database import query_utm_crs_info\n",
        "\n",
        "utm_crs_list = query_utm_crs_info(\n",
        "    datum_name=\"WGS 84\",\n",
        "    area_of_interest=AreaOfInterest(\n",
        "        west_lon_degree=ppp_rwa.x.min(),\n",
        "        south_lat_degree=ppp_rwa.y.min(),\n",
        "        east_lon_degree=ppp_rwa.x.max(),\n",
        "        north_lat_degree=ppp_rwa.y.max(),\n",
        "    ),\n",
        ")\n",
        "crs = utm_crs_list[0]"
      ]
    },
    {
      "cell_type": "markdown",
      "id": "8b96c524-efb2-4c93-a164-e27f3f96e742",
      "metadata": {
        "id": "8b96c524-efb2-4c93-a164-e27f3f96e742"
      },
      "source": [
        "Now, we can simply reproject the grid and get estimated pixel area."
      ]
    },
    {
      "cell_type": "code",
      "execution_count": null,
      "id": "4176291e-484e-42ab-bdeb-17db6ef5dc1a",
      "metadata": {
        "id": "4176291e-484e-42ab-bdeb-17db6ef5dc1a"
      },
      "outputs": [],
      "source": [
        "ppp_rwa_utm = ppp_rwa.rio.reproject(f\"{crs.auth_name}:{crs.code}\")\n",
        "px_area = ((ppp_rwa_utm.x[1] - ppp_rwa_utm.x[0]) ** 2) / 1_000_000"
      ]
    },
    {
      "cell_type": "markdown",
      "id": "273ad65f-a28e-47b3-8287-d208261fa882",
      "metadata": {
        "id": "273ad65f-a28e-47b3-8287-d208261fa882"
      },
      "source": [
        "We could then get the population density per sq. km, in approx 100m x 100m pixels, by simply dividing the `ppp_rwa` by `px_area`. But, let's say we want to convert this `ppp` dataset to have density units of people per sq. mile (mi). For this we'd need a conversion factor of 1 sq. km to 0.386102 sq. mi. For each pixel $i$ the equation for its value would look like:\n",
        "\n",
        "$$\\text{ppmi} = \\frac{ppp\\_rwa}{px\\_area_{km^2}} * \\frac{1\\text{ km}^2}{0.386102\\text{ mi}^2}$$\n",
        "\n",
        "We could then execute the following:"
      ]
    },
    {
      "cell_type": "code",
      "execution_count": null,
      "id": "205ccc31-b984-44ae-8a94-8efcef25274f",
      "metadata": {
        "id": "205ccc31-b984-44ae-8a94-8efcef25274f"
      },
      "outputs": [],
      "source": [
        "ppmi = ppp_rwa_utm / px_area * (1 / 0.386102)"
      ]
    },
    {
      "cell_type": "markdown",
      "id": "a8d4ceb6-fdf2-43a5-842d-fd3a25022da0",
      "metadata": {
        "id": "a8d4ceb6-fdf2-43a5-842d-fd3a25022da0"
      },
      "source": [
        "You should now have a population density layer, with units of people per square mile. If you desired another area unit for the density value, you could use the same equation above and modify it by simply multiplying by the correct conversion factor. Feel free to explore this dataset as before with plotting and other graphs."
      ]
    },
    {
      "cell_type": "markdown",
      "id": "2242095c-b9db-48dc-9e16-716ca2b0047c",
      "metadata": {
        "tags": [],
        "id": "2242095c-b9db-48dc-9e16-716ca2b0047c"
      },
      "source": [
        "# \"Intelligent\" Dasymetric Redistirbution \n",
        "## What is Dasymetric Redistribution?\n",
        "Dasymetric redistribution is the disaggregation of values from count data a larger _source area_ to a series of, smaller, _target areas_ that lie within the given source area based upon _ancillary data_. Ancillary data is information related to the phenomena, which is being disaggregated, and is used to inform, proportionally, which target units the counts being distributed should be assigned [@Wright1936; @Eicher2001; @Mennis2003; @Mennis2006; @Mennis2009]. The ancillary data must be at the same spatial resolution of the target areas and the disaggregated values assigned to the target areas should add back up to the original value of the source area they were distributed from [@Mennis2003; @Mennis2006; @Mennis2009]. This is similar to the more simple procedure of areal reweighting (Figure 2) which redistributes count values based upon the proportional relationships between the areas of the targets to the source [@Eicher2001].\n",
        "\n",
        "For instance, if we are disaggregating population counts from a county down to the admin units that make up the county, we could use land cover as an ancillary dataset, as shown in an example within Figure 3. This is because we know, or assume, things about the relationship between population counts and land cover, e.g. few to no people live in water (land cover class \"200\" in example), more people live in built land cover (land cover class \"190\" in example) than in agriculture land cover (land cover class \"11\" in example), and more people are likely to live in agriculture land cover than forest land cover (land cover class \"40\" in example) [@Mennis2003; @Mennis2006; @Nieves2017].\n",
        "\n",
        "How we go about communicating this relationship mathematically is by assigning weights to the different ancillary data. This can either be done by manually assigning weights based upon expertise or theoretical concepts [@Mennis2003], or so-called “intelligent” dasymetric mapping [@Mennis2006] where the weights are determined by some statistical function or model such as linear regression (Figure 3). It is important to note that these weights are used relative to each source area. So, if a target area has a given weight, we first normalize it, if the weights in the source area do not already add up to 1, relative to all the other target areas within its source area prior to multiplying the source area count by the weights to get the final disaggregated target area counts (Figure 3).\n",
        "\n",
        "We are going to examine a method of random forest-informed dasymetric modelling of gridded population data, put forth by Stevens *et al.* [-@Stevens2015] that uses a random forest regression, a regression tree-based machine learning method, to create the weights that inform the dasymetric redistribution of population count values from source areas (typically census-based enumeration units) to our target areas (approximately 100m resolution pixels).\n",
        "\n",
        "##  What is a Random Forest?\n",
        "\n",
        "Random forests (RFs) are a non-parametric modelling method that creates an ensemble model by growing many independent decision trees through random covariate selection and a sampling with replacement method called bagging [@Breiman1996; @Breiman2001]. As related to user input and parametrization, RFs do not require much, which is an attractive feature and allows it to be used on large datasets with varying attributes. A brief summary of strengths and weaknesses of RFs are presented in Table below:\n",
        "\n",
        "|Strengths|Limits|\n",
        "| --------------------- | ---------- |\n",
        "|All-purpose model that performs well on most problems including those with non-linear relationships, many complex interactions of covariates, and collinearity|Covariate relationships to outcome of interest largely, but not wholly, uninterpretable since it is composed of hundreds of decision trees, i.e. considered a 'black box' method||\n",
        "|Handles noisy or missing data in addition to categorical and continuous data and is robust against over training||\n",
        "|Can be specified to only include the most important variables||\n",
        "|Can handle extremely large and extremely small datasets||\n",
        "|Can be used for either classification or regression||\n",
        "|Requires little to no manual tuning of parameters||\n",
        "|Scalable, i.e. can be parallelized for quicker performance||\n",
        "|Internal validation estimate||\n",
        "\n",
        "While fully understanding a RF is not necessary to utilize this data correctly, those who wish to know more can read [@Breiman1996; @Breiman2001; @Liaw2002] and the document `Classifiers and Random Forests.pdf` in the `../docs/` folder. The important concept is that we use random forests to create the weighting layer used in our dasymetric redistribution of population count data by training it at the admin unit level using unit averages of covariates and population density and then predict population density per pixel based upon pixel level covariates.\n",
        "\n",
        "##  Dasymetric Disaggregation with a Random Forest-informed Weighting Layer\n",
        "\n",
        "Here we will provide you with the weighting layer created by a RF and have you manually go through the process of disaggregating population count data from vector-based administrative units to ~100m pixels. Let’s start by adding our vector-based population data that is stored as a polygon shapefile. \n",
        "\n",
        "Execute the following:"
      ]
    },
    {
      "cell_type": "code",
      "execution_count": null,
      "id": "f7c223c9-7488-4283-9e56-79b616aa4a1a",
      "metadata": {
        "id": "f7c223c9-7488-4283-9e56-79b616aa4a1a"
      },
      "outputs": [],
      "source": [
        "pop_shp = geopandas.read_file(\"../data/SectionII/adminpop.gpkg\")"
      ]
    },
    {
      "cell_type": "code",
      "execution_count": null,
      "id": "a60b2ab2-b09a-4191-8e12-cc5235396d18",
      "metadata": {
        "id": "a60b2ab2-b09a-4191-8e12-cc5235396d18"
      },
      "outputs": [],
      "source": [
        "# pop_shp = geopandas.read_file(\"https://github.com/jjniev01/GISRUK_Dasy/raw/main/data/SectionII/adminpop.gpkg\")"
      ]
    },
    {
      "cell_type": "markdown",
      "id": "7c39dace-01a5-45b9-a76c-34e1e114f38e",
      "metadata": {
        "id": "7c39dace-01a5-45b9-a76c-34e1e114f38e"
      },
      "source": [
        "Take a bit of time to explore the attribute table of the `pop_shp` object paying attention to the `ADMINID` and `ADMINPOP` fields. The `ADMINID` field is the unique ID of each source area and the `ADMINPOP` field is the total population count for each area. If we execute the `describe()` method and call the `head()` method on the `pop_shp` object:"
      ]
    },
    {
      "cell_type": "code",
      "execution_count": null,
      "id": "8a0f4fc7-df3f-40f3-89de-810330de6d88",
      "metadata": {
        "id": "8a0f4fc7-df3f-40f3-89de-810330de6d88",
        "outputId": "4e0d2b30-a2a7-45d4-93a2-19d5d3ec7f11"
      },
      "outputs": [
        {
          "data": {
            "text/html": [
              "<div>\n",
              "<style scoped>\n",
              "    .dataframe tbody tr th:only-of-type {\n",
              "        vertical-align: middle;\n",
              "    }\n",
              "\n",
              "    .dataframe tbody tr th {\n",
              "        vertical-align: top;\n",
              "    }\n",
              "\n",
              "    .dataframe thead th {\n",
              "        text-align: right;\n",
              "    }\n",
              "</style>\n",
              "<table border=\"1\" class=\"dataframe\">\n",
              "  <thead>\n",
              "    <tr style=\"text-align: right;\">\n",
              "      <th></th>\n",
              "      <th>GRIDCODE</th>\n",
              "      <th>ADMINID</th>\n",
              "      <th>ADMINPOP</th>\n",
              "      <th>YEARPOP</th>\n",
              "      <th>ISO</th>\n",
              "      <th>DIS_ID</th>\n",
              "      <th>geometry</th>\n",
              "    </tr>\n",
              "  </thead>\n",
              "  <tbody>\n",
              "    <tr>\n",
              "      <th>0</th>\n",
              "      <td>1</td>\n",
              "      <td>1</td>\n",
              "      <td>5880</td>\n",
              "      <td>2002</td>\n",
              "      <td>RWA</td>\n",
              "      <td>15</td>\n",
              "      <td>POLYGON ((30.06374 -1.97176, 30.06374 -1.97093...</td>\n",
              "    </tr>\n",
              "    <tr>\n",
              "      <th>1</th>\n",
              "      <td>2</td>\n",
              "      <td>2</td>\n",
              "      <td>3469</td>\n",
              "      <td>2002</td>\n",
              "      <td>RWA</td>\n",
              "      <td>15</td>\n",
              "      <td>POLYGON ((30.06124 -1.96593, 30.06124 -1.96426...</td>\n",
              "    </tr>\n",
              "    <tr>\n",
              "      <th>2</th>\n",
              "      <td>3</td>\n",
              "      <td>3</td>\n",
              "      <td>3279</td>\n",
              "      <td>2002</td>\n",
              "      <td>RWA</td>\n",
              "      <td>15</td>\n",
              "      <td>POLYGON ((30.05874 -1.96759, 30.05874 -1.96593...</td>\n",
              "    </tr>\n",
              "    <tr>\n",
              "      <th>3</th>\n",
              "      <td>4</td>\n",
              "      <td>4</td>\n",
              "      <td>3340</td>\n",
              "      <td>2002</td>\n",
              "      <td>RWA</td>\n",
              "      <td>15</td>\n",
              "      <td>POLYGON ((30.06874 -1.96926, 30.06874 -1.96843...</td>\n",
              "    </tr>\n",
              "    <tr>\n",
              "      <th>4</th>\n",
              "      <td>5</td>\n",
              "      <td>5</td>\n",
              "      <td>6510</td>\n",
              "      <td>2002</td>\n",
              "      <td>RWA</td>\n",
              "      <td>15</td>\n",
              "      <td>POLYGON ((30.06208 -1.97259, 30.06041 -1.97259...</td>\n",
              "    </tr>\n",
              "  </tbody>\n",
              "</table>\n",
              "</div>"
            ],
            "text/plain": [
              "   GRIDCODE  ADMINID  ADMINPOP  YEARPOP  ISO  DIS_ID  \\\n",
              "0         1        1      5880     2002  RWA      15   \n",
              "1         2        2      3469     2002  RWA      15   \n",
              "2         3        3      3279     2002  RWA      15   \n",
              "3         4        4      3340     2002  RWA      15   \n",
              "4         5        5      6510     2002  RWA      15   \n",
              "\n",
              "                                            geometry  \n",
              "0  POLYGON ((30.06374 -1.97176, 30.06374 -1.97093...  \n",
              "1  POLYGON ((30.06124 -1.96593, 30.06124 -1.96426...  \n",
              "2  POLYGON ((30.05874 -1.96759, 30.05874 -1.96593...  \n",
              "3  POLYGON ((30.06874 -1.96926, 30.06874 -1.96843...  \n",
              "4  POLYGON ((30.06208 -1.97259, 30.06041 -1.97259...  "
            ]
          },
          "execution_count": 24,
          "metadata": {},
          "output_type": "execute_result"
        }
      ],
      "source": [
        "pop_shp.head()"
      ]
    },
    {
      "cell_type": "code",
      "execution_count": null,
      "id": "3de818d3-8aa1-4938-9124-de4641a70b0c",
      "metadata": {
        "id": "3de818d3-8aa1-4938-9124-de4641a70b0c",
        "outputId": "e44b4841-8eff-4743-e6bb-d4439ddbfaf6"
      },
      "outputs": [
        {
          "data": {
            "text/html": [
              "<div>\n",
              "<style scoped>\n",
              "    .dataframe tbody tr th:only-of-type {\n",
              "        vertical-align: middle;\n",
              "    }\n",
              "\n",
              "    .dataframe tbody tr th {\n",
              "        vertical-align: top;\n",
              "    }\n",
              "\n",
              "    .dataframe thead th {\n",
              "        text-align: right;\n",
              "    }\n",
              "</style>\n",
              "<table border=\"1\" class=\"dataframe\">\n",
              "  <thead>\n",
              "    <tr style=\"text-align: right;\">\n",
              "      <th></th>\n",
              "      <th>GRIDCODE</th>\n",
              "      <th>ADMINID</th>\n",
              "      <th>ADMINPOP</th>\n",
              "      <th>YEARPOP</th>\n",
              "      <th>DIS_ID</th>\n",
              "    </tr>\n",
              "  </thead>\n",
              "  <tbody>\n",
              "    <tr>\n",
              "      <th>count</th>\n",
              "      <td>9192.000000</td>\n",
              "      <td>9192.000000</td>\n",
              "      <td>9192.000000</td>\n",
              "      <td>9192.0</td>\n",
              "      <td>9192.000000</td>\n",
              "    </tr>\n",
              "    <tr>\n",
              "      <th>mean</th>\n",
              "      <td>4596.500000</td>\n",
              "      <td>4596.500000</td>\n",
              "      <td>1031.604765</td>\n",
              "      <td>2002.0</td>\n",
              "      <td>15.796562</td>\n",
              "    </tr>\n",
              "    <tr>\n",
              "      <th>std</th>\n",
              "      <td>2653.646171</td>\n",
              "      <td>2653.646171</td>\n",
              "      <td>927.474141</td>\n",
              "      <td>0.0</td>\n",
              "      <td>9.008679</td>\n",
              "    </tr>\n",
              "    <tr>\n",
              "      <th>min</th>\n",
              "      <td>1.000000</td>\n",
              "      <td>1.000000</td>\n",
              "      <td>0.000000</td>\n",
              "      <td>2002.0</td>\n",
              "      <td>1.000000</td>\n",
              "    </tr>\n",
              "    <tr>\n",
              "      <th>25%</th>\n",
              "      <td>2298.750000</td>\n",
              "      <td>2298.750000</td>\n",
              "      <td>593.000000</td>\n",
              "      <td>2002.0</td>\n",
              "      <td>7.000000</td>\n",
              "    </tr>\n",
              "    <tr>\n",
              "      <th>50%</th>\n",
              "      <td>4596.500000</td>\n",
              "      <td>4596.500000</td>\n",
              "      <td>839.000000</td>\n",
              "      <td>2002.0</td>\n",
              "      <td>17.000000</td>\n",
              "    </tr>\n",
              "    <tr>\n",
              "      <th>75%</th>\n",
              "      <td>6894.250000</td>\n",
              "      <td>6894.250000</td>\n",
              "      <td>1184.250000</td>\n",
              "      <td>2002.0</td>\n",
              "      <td>23.000000</td>\n",
              "    </tr>\n",
              "    <tr>\n",
              "      <th>max</th>\n",
              "      <td>9192.000000</td>\n",
              "      <td>9192.000000</td>\n",
              "      <td>19500.000000</td>\n",
              "      <td>2002.0</td>\n",
              "      <td>30.000000</td>\n",
              "    </tr>\n",
              "  </tbody>\n",
              "</table>\n",
              "</div>"
            ],
            "text/plain": [
              "          GRIDCODE      ADMINID      ADMINPOP  YEARPOP       DIS_ID\n",
              "count  9192.000000  9192.000000   9192.000000   9192.0  9192.000000\n",
              "mean   4596.500000  4596.500000   1031.604765   2002.0    15.796562\n",
              "std    2653.646171  2653.646171    927.474141      0.0     9.008679\n",
              "min       1.000000     1.000000      0.000000   2002.0     1.000000\n",
              "25%    2298.750000  2298.750000    593.000000   2002.0     7.000000\n",
              "50%    4596.500000  4596.500000    839.000000   2002.0    17.000000\n",
              "75%    6894.250000  6894.250000   1184.250000   2002.0    23.000000\n",
              "max    9192.000000  9192.000000  19500.000000   2002.0    30.000000"
            ]
          },
          "execution_count": 25,
          "metadata": {},
          "output_type": "execute_result"
        }
      ],
      "source": [
        "pop_shp.describe()"
      ]
    },
    {
      "cell_type": "markdown",
      "id": "97db9c26-71b4-4887-ab64-990d0d46d0a7",
      "metadata": {
        "id": "97db9c26-71b4-4887-ab64-990d0d46d0a7"
      },
      "source": [
        "We can see the attribute table of the has been read in using the `geopandas` package essentially as a `pandas.DataFrame` class with attached spatial geometry data. This means anything you can do to an `pandas.DataFrame` you can use to manipulate and view the data of the `pop_shp` object. We can also see that there are six field columns here plus a column for the geometry, but we are mainly interested in ADMINID and ADMINPOP fields. Now we’ll add the prediction density layer by executing the following:"
      ]
    },
    {
      "cell_type": "code",
      "execution_count": null,
      "id": "84ea4f13-874b-4863-b46a-1f9e9d1dca2f",
      "metadata": {
        "id": "84ea4f13-874b-4863-b46a-1f9e9d1dca2f"
      },
      "outputs": [],
      "source": [
        "rf_weight_layer = rioxarray.open_rasterio(\"../data/SectionII/predict_density_rf_pred_prj_2002_RWA.tif\", masked=True)"
      ]
    },
    {
      "cell_type": "code",
      "execution_count": null,
      "id": "f5c0214a-abe0-4528-8f98-4e7d86380818",
      "metadata": {
        "id": "f5c0214a-abe0-4528-8f98-4e7d86380818"
      },
      "outputs": [],
      "source": [
        "# rf_weight_layer = rioxarray.open_rasterio(\"https://github.com/jjniev01/GISRUK_Dasy/raw/main/data/SectionII/predict_density_rf_pred_prj_2002_RWA.tif\", masked=True)"
      ]
    },
    {
      "cell_type": "markdown",
      "id": "47b5066b-ae7e-4e3e-8b7b-5bf961279db4",
      "metadata": {
        "id": "47b5066b-ae7e-4e3e-8b7b-5bf961279db4"
      },
      "source": [
        "Get an idea of the what the weighting layer looks like by calling:"
      ]
    },
    {
      "cell_type": "code",
      "execution_count": null,
      "id": "3e947884-07f7-4bdc-90a8-51ba2c70c0f8",
      "metadata": {
        "id": "3e947884-07f7-4bdc-90a8-51ba2c70c0f8",
        "outputId": "e514c777-e006-4ea6-af56-744b3ecc1397"
      },
      "outputs": [
        {
          "data": {
            "text/plain": [
              "<matplotlib.collections.QuadMesh at 0x7fa470cfc070>"
            ]
          },
          "execution_count": 27,
          "metadata": {},
          "output_type": "execute_result"
        },
        {
          "data": {
            "image/png": "[encoded data removed]",
            "text/plain": [
              "<Figure size 432x288 with 2 Axes>"
            ]
          },
          "metadata": {
            "needs_background": "light"
          },
          "output_type": "display_data"
        }
      ],
      "source": [
        "rf_weight_layer.plot()"
      ]
    },
    {
      "cell_type": "markdown",
      "id": "2c6bb5b6-67a1-472a-8136-d0b011477ff6",
      "metadata": {
        "id": "2c6bb5b6-67a1-472a-8136-d0b011477ff6"
      },
      "source": [
        "Looking at the plot legend, it is quickly apparent that that the sum of pixel values within any given source area will be much higher than 1, meaning we are not meeting one of the requirements for dasymetric weights and indicating we will need to normalize the values somehow first. This is because the RF outputs values of predicted average population density, which can have values from zero to, theoretically, infinity. \n",
        "\n",
        "Lets focus on normalising the weights relative to each unit. We can think of this in mathematical terms where for a given source area $i$ we divide every target pixel $j$ within that given source area by the sum of all pixels $j$ in the source area $i$. Or written as a function:\n",
        "\n",
        "$$\\text{normalised weight}_{ij} = \\frac{RF\\_predicted\\_value_{ij}}{\\sum{RF\\_predicted\\_value_{ij}}}$$\n",
        "\n",
        "So, to get our normalised weighting layer we need to do two things: 1) find the sum of all pixel values within each source area of the `.shp` layer, and, 2) Divide all the pixel values of the `.tif` weighting raster by those sums. First, we’ll find the sum of weight values and create a raster of those sums that we can normalise by. So, we create a raster of zones to carry out our sum procedure within by calling the `make_geocube()` function from the`geocube` package to put the ADMINID and any other values into spatially coincident raster cells. "
      ]
    },
    {
      "cell_type": "code",
      "execution_count": null,
      "id": "b0a04a8d-6e3f-4d32-839d-b9602d59468c",
      "metadata": {
        "id": "b0a04a8d-6e3f-4d32-839d-b9602d59468c"
      },
      "outputs": [],
      "source": [
        "shp_ras = make_geocube(pop_shp, like=rf_weight_layer, measurements=[\"ADMINID\", \"ADMINPOP\"])"
      ]
    },
    {
      "cell_type": "markdown",
      "id": "f802e317-5e96-4e8e-9de3-188b2638d266",
      "metadata": {
        "id": "f802e317-5e96-4e8e-9de3-188b2638d266"
      },
      "source": [
        "We now have our raster where every pixel value indicates the unique ID of the source polygon area the pixel lies in. Now, let’s find the total sum of pixel level weights per admin unit. Type and execute the following to get the sum:"
      ]
    },
    {
      "cell_type": "code",
      "execution_count": null,
      "id": "7f42ef13-3ecf-4811-8a4f-6d876b75723c",
      "metadata": {
        "id": "7f42ef13-3ecf-4811-8a4f-6d876b75723c"
      },
      "outputs": [],
      "source": [
        "weight_sum_table = rf_weight_layer.groupby(shp_ras[\"ADMINID\"].astype(int)).sum()"
      ]
    },
    {
      "cell_type": "markdown",
      "id": "8c10f537-8abd-486f-9d73-42d1d6096b6f",
      "metadata": {
        "id": "8c10f537-8abd-486f-9d73-42d1d6096b6f"
      },
      "source": [
        "This gives us a matrix that has one column for the unique ID of each zone and the corresponding sum of weights per zone in the second column. But this data is no longer spatial, so we need to get it back into a spatially explicit format again, specifically in a raster. So first, let’s convert the matrix to a `pandas.DataFrame` and make the names line up for a join to the shapefile. Execute the following line:"
      ]
    },
    {
      "cell_type": "code",
      "execution_count": null,
      "id": "94394cf9-5520-41ae-b976-8ce9dd701b19",
      "metadata": {
        "id": "94394cf9-5520-41ae-b976-8ce9dd701b19"
      },
      "outputs": [],
      "source": [
        "weight_sum_table = weight_sum_table.to_dataframe(name=\"RFW_SUM\")"
      ]
    },
    {
      "cell_type": "markdown",
      "id": "5a4c5ad2-5be3-418e-a08b-974be9ad5437",
      "metadata": {
        "id": "5a4c5ad2-5be3-418e-a08b-974be9ad5437"
      },
      "source": [
        "We then join the data to the shapefile by the matching `ADMINID` value:"
      ]
    },
    {
      "cell_type": "code",
      "execution_count": null,
      "id": "9e5be362-4711-4bba-a728-d79ad2c782ce",
      "metadata": {
        "id": "9e5be362-4711-4bba-a728-d79ad2c782ce"
      },
      "outputs": [],
      "source": [
        "pop_shp = pop_shp.merge(weight_sum_table[[\"RFW_SUM\"]], on=\"ADMINID\", how=\"left\")"
      ]
    },
    {
      "cell_type": "markdown",
      "id": "9475960a-0a15-4abe-94b7-7db7b3e9b25d",
      "metadata": {
        "id": "9475960a-0a15-4abe-94b7-7db7b3e9b25d"
      },
      "source": [
        "Check that the values have been transferred to the shapefile by calling:"
      ]
    },
    {
      "cell_type": "code",
      "execution_count": null,
      "id": "c0a9bf91-3175-444c-8799-07527356d51f",
      "metadata": {
        "id": "c0a9bf91-3175-444c-8799-07527356d51f",
        "outputId": "5cb3cfe6-b9d9-43f3-f683-dad0b4bf38c2"
      },
      "outputs": [
        {
          "data": {
            "text/plain": [
              "0    2502.027344\n",
              "1    1164.864014\n",
              "2    1165.417847\n",
              "3    1801.993286\n",
              "4    2298.033936\n",
              "Name: RFW_SUM, dtype: float32"
            ]
          },
          "execution_count": 32,
          "metadata": {},
          "output_type": "execute_result"
        }
      ],
      "source": [
        "pop_shp[\"RFW_SUM\"].head()"
      ]
    },
    {
      "cell_type": "markdown",
      "id": "b44a18cf-fb3f-440a-9d6b-d35dd9937202",
      "metadata": {
        "id": "b44a18cf-fb3f-440a-9d6b-d35dd9937202"
      },
      "source": [
        "Now we’ll turn those weight sums into a raster using `make_geocube()` again:"
      ]
    },
    {
      "cell_type": "code",
      "execution_count": null,
      "id": "99d7222f-e4f8-4521-ba10-71e14a922e7a",
      "metadata": {
        "id": "99d7222f-e4f8-4521-ba10-71e14a922e7a"
      },
      "outputs": [],
      "source": [
        "weight_sum_ras = make_geocube(pop_shp, like=rf_weight_layer, measurements=[\"RFW_SUM\",])"
      ]
    },
    {
      "cell_type": "markdown",
      "id": "cd1f43de-5c7e-4bcd-8fae-bb5167739dd4",
      "metadata": {
        "id": "cd1f43de-5c7e-4bcd-8fae-bb5167739dd4"
      },
      "source": [
        "Go ahead and plot the raster to see how it did."
      ]
    },
    {
      "cell_type": "code",
      "execution_count": null,
      "id": "361d4d23-5ffc-4a5d-8db0-48daab54c5ab",
      "metadata": {
        "id": "361d4d23-5ffc-4a5d-8db0-48daab54c5ab",
        "outputId": "47eecb32-2765-42a6-e386-c192e4331d3c"
      },
      "outputs": [
        {
          "data": {
            "text/plain": [
              "<matplotlib.collections.QuadMesh at 0x7fa4704056d0>"
            ]
          },
          "execution_count": 34,
          "metadata": {},
          "output_type": "execute_result"
        },
        {
          "data": {
            "image/png": "[encoded data removed]",
            "text/plain": [
              "<Figure size 432x288 with 2 Axes>"
            ]
          },
          "metadata": {
            "needs_background": "light"
          },
          "output_type": "display_data"
        }
      ],
      "source": [
        "weight_sum_ras[\"RFW_SUM\"].plot()"
      ]
    },
    {
      "cell_type": "markdown",
      "id": "b5d72cac-a6a3-4e96-8a1c-8086ae083cd6",
      "metadata": {
        "id": "b5d72cac-a6a3-4e96-8a1c-8086ae083cd6"
      },
      "source": [
        "Let’s normalise the weights; execute the following:"
      ]
    },
    {
      "cell_type": "code",
      "execution_count": null,
      "id": "8b0c3b0a-fd63-4d08-8b15-bfd8278f4192",
      "metadata": {
        "id": "8b0c3b0a-fd63-4d08-8b15-bfd8278f4192"
      },
      "outputs": [],
      "source": [
        "norm_weights = rf_weight_layer / weight_sum_ras[\"RFW_SUM\"].values"
      ]
    },
    {
      "cell_type": "markdown",
      "id": "0e6e9b2b-d3ef-4a78-8bd8-1abd07e6a8dd",
      "metadata": {
        "id": "0e6e9b2b-d3ef-4a78-8bd8-1abd07e6a8dd"
      },
      "source": [
        "Now that we have our normalised weights in raster format we can focus on disaggregating our population count data from the `adminpop.shp` data."
      ]
    },
    {
      "cell_type": "markdown",
      "id": "53617012-5a62-45ff-a783-2f7dff4fcaf8",
      "metadata": {
        "id": "53617012-5a62-45ff-a783-2f7dff4fcaf8"
      },
      "source": [
        "Give this raster a plot to see how coarse the population data is relative to what we are about to do."
      ]
    },
    {
      "cell_type": "code",
      "execution_count": null,
      "id": "2b4af59d-5fd5-4082-ac0f-3f3352b61084",
      "metadata": {
        "id": "2b4af59d-5fd5-4082-ac0f-3f3352b61084",
        "outputId": "1744de00-e2b5-4bbd-9dfc-adfff5efbdc5"
      },
      "outputs": [
        {
          "data": {
            "text/plain": [
              "<matplotlib.collections.QuadMesh at 0x7fa47098c250>"
            ]
          },
          "execution_count": 36,
          "metadata": {},
          "output_type": "execute_result"
        },
        {
          "data": {
            "image/png": "[encoded data removed]",
            "text/plain": [
              "<Figure size 432x288 with 2 Axes>"
            ]
          },
          "metadata": {
            "needs_background": "light"
          },
          "output_type": "display_data"
        }
      ],
      "source": [
        "shp_ras[\"ADMINPOP\"].plot()"
      ]
    },
    {
      "cell_type": "markdown",
      "id": "b01f3e09-01af-44de-b072-e0e24e67a7b0",
      "metadata": {
        "id": "b01f3e09-01af-44de-b072-e0e24e67a7b0"
      },
      "source": [
        "At last, we can disaggregate the population using the normalised weights. Execute the following:"
      ]
    },
    {
      "cell_type": "code",
      "execution_count": null,
      "id": "c31c2908-e962-47e3-aefe-ce80f3db93d4",
      "metadata": {
        "id": "c31c2908-e962-47e3-aefe-ce80f3db93d4"
      },
      "outputs": [],
      "source": [
        "rf_disaggregation = norm_weights * shp_ras[\"ADMINPOP\"].values"
      ]
    },
    {
      "cell_type": "markdown",
      "id": "beabe55f-1b02-42d9-a391-231557539528",
      "metadata": {
        "id": "beabe55f-1b02-42d9-a391-231557539528"
      },
      "source": [
        "Now plot this raster to compare to the raster of the admin unit sums!"
      ]
    },
    {
      "cell_type": "code",
      "execution_count": null,
      "id": "e61cc11c-2e49-45bb-a4cd-0d8047e077ad",
      "metadata": {
        "id": "e61cc11c-2e49-45bb-a4cd-0d8047e077ad",
        "outputId": "e1a101aa-b00d-45e0-9587-459d95765964"
      },
      "outputs": [
        {
          "data": {
            "text/plain": [
              "<matplotlib.collections.QuadMesh at 0x7fa47a86ac40>"
            ]
          },
          "execution_count": 38,
          "metadata": {},
          "output_type": "execute_result"
        },
        {
          "data": {
            "image/png": "[encoded data removed]",
            "text/plain": [
              "<Figure size 432x288 with 2 Axes>"
            ]
          },
          "metadata": {
            "needs_background": "light"
          },
          "output_type": "display_data"
        }
      ],
      "source": [
        "rf_disaggregation.plot()"
      ]
    },
    {
      "cell_type": "markdown",
      "id": "f85c713e-d8b4-4b67-863e-7fd64a3c5bd3",
      "metadata": {
        "id": "f85c713e-d8b4-4b67-863e-7fd64a3c5bd3"
      },
      "source": [
        "We can now perform one more check to ensure that everything went correctly. Dasymetric redistributions should ideally be “volume preserving”, meaning that all the values of the target areas should add back up to the source area they were disaggregated from. Let's add up the values using the `groupby()` method again and subtract the disaggregated sums from the admin unit values."
      ]
    },
    {
      "cell_type": "code",
      "execution_count": null,
      "id": "15ad6566-f13e-4eb0-8c98-79e425552eea",
      "metadata": {
        "id": "15ad6566-f13e-4eb0-8c98-79e425552eea"
      },
      "outputs": [],
      "source": [
        "pop_check = rf_disaggregation.groupby(shp_ras[\"ADMINID\"].astype(int)).sum()"
      ]
    },
    {
      "cell_type": "markdown",
      "id": "5b23fae4-93b6-407b-b049-ef00ec6e2ec3",
      "metadata": {
        "id": "5b23fae4-93b6-407b-b049-ef00ec6e2ec3"
      },
      "source": [
        "Now we can see what the difference is (if any) between the sum of our modelled values and the original source values:"
      ]
    },
    {
      "cell_type": "code",
      "execution_count": null,
      "id": "69fa39ba-1bb3-4f14-b6cb-d6a5f86daffe",
      "metadata": {
        "id": "69fa39ba-1bb3-4f14-b6cb-d6a5f86daffe",
        "outputId": "2a2909e4-a36c-4050-d6c8-260941ea861e"
      },
      "outputs": [
        {
          "data": {
            "text/plain": [
              "count    9192.0\n",
              "mean        0.0\n",
              "std         0.0\n",
              "min        -0.0\n",
              "25%        -0.0\n",
              "50%         0.0\n",
              "75%         0.0\n",
              "max         0.0\n",
              "Name: ADMINPOP, dtype: float64"
            ]
          },
          "execution_count": 40,
          "metadata": {},
          "output_type": "execute_result"
        }
      ],
      "source": [
        "pop_difference_vector = pop_shp[\"ADMINPOP\"] - pop_check[0][1:]\n",
        "pop_difference_vector.describe().round(2)"
      ]
    },
    {
      "cell_type": "markdown",
      "id": "b65afa3c-b54f-4f0c-9387-af3ba0b866bb",
      "metadata": {
        "id": "b65afa3c-b54f-4f0c-9387-af3ba0b866bb"
      },
      "source": [
        "## Creating Your Own Dasymetric Weighting Layer\n",
        "\n",
        "Let’s manually create a dasymetric weighting layer and see how this impacts the disaggregation. First load the `rwa_lc.tif` and view it by executing:"
      ]
    },
    {
      "cell_type": "code",
      "execution_count": null,
      "id": "f1a694b0-0b88-4541-8de2-a9da711ebedd",
      "metadata": {
        "id": "f1a694b0-0b88-4541-8de2-a9da711ebedd"
      },
      "outputs": [],
      "source": [
        ""
      ]
    },
    {
      "cell_type": "code",
      "execution_count": null,
      "id": "5cc816a0-1e31-450b-9fc7-1a099dd529b6",
      "metadata": {
        "id": "5cc816a0-1e31-450b-9fc7-1a099dd529b6"
      },
      "outputs": [],
      "source": [
        "lc_ras = rioxarray.open_rasterio(\"../data/SectionII/rwa_lc.tif\", masked=True)"
      ]
    },
    {
      "cell_type": "code",
      "execution_count": null,
      "id": "27c90f96-1b02-46b3-b16b-20bf2ddc5a13",
      "metadata": {
        "id": "27c90f96-1b02-46b3-b16b-20bf2ddc5a13"
      },
      "outputs": [],
      "source": [
        "# lc_ras = rioxarray.open_rasterio(\"https://github.com/jjniev01/GISRUK_Dasy/raw/main/data/SectionII/rwa_lc.tif\", masked=True)"
      ]
    },
    {
      "cell_type": "code",
      "execution_count": null,
      "id": "e827c2d9-d3f1-4b87-8c4e-714446371c4e",
      "metadata": {
        "id": "e827c2d9-d3f1-4b87-8c4e-714446371c4e",
        "outputId": "614a5b41-eb37-48b5-caff-ddbd500c2328"
      },
      "outputs": [
        {
          "data": {
            "text/plain": [
              "<matplotlib.collections.QuadMesh at 0x7fa47091a4f0>"
            ]
          },
          "execution_count": 42,
          "metadata": {},
          "output_type": "execute_result"
        },
        {
          "data": {
            "image/png": "[encoded data removed]",
            "text/plain": [
              "<Figure size 432x288 with 2 Axes>"
            ]
          },
          "metadata": {
            "needs_background": "light"
          },
          "output_type": "display_data"
        }
      ],
      "source": [
        "lc_ras.plot()"
      ]
    },
    {
      "cell_type": "markdown",
      "id": "ace302b4-a407-4b75-ba3b-cfc85d841297",
      "metadata": {
        "id": "ace302b4-a407-4b75-ba3b-cfc85d841297"
      },
      "source": [
        "This raster is a thematic land cover dataset where every integer value represents one of the described land cover classes in the table below. There are more classes possible in this dataset, but we only include the ones seen in Rwanda for conciseness.\n",
        "\n",
        "|Class Number|Land Cover Description|Assigned Weight|\n",
        "| --------------------- | ---------- |----------------------|\n",
        "|11|Cultivated and Managed Lands| |\n",
        "|40|Natural and Semi-Natural Vegetation: Woody/Trees| |\n",
        "|130|Natural and Semi-Natural Vegetation: Shrubs| |\n",
        "|140|Natural and Semi-Natural Vegetation: Herbaceous/Grassy| |\n",
        "|160|Natural and Semi-Natural Vegetation: Aquatic| |\n",
        "|190|Built Areas: Urban| |\n",
        "|200|Bare Areas| |\n",
        "|210|Water| |\n",
        "|240|Built Areas: Rural| |\n",
        "\n",
        "To turn this into a weighting layer, we first need to convert the land cover class values into weights. \n",
        "\n",
        "Using the \"User Assigned Weights\" column in Table 2 to record your choices, assign weighting values at your discretion based upon your beliefs of how population distribution is related to land cover classes. But remember that these values should have relative meaning amongst themselves. For instance, you may have reason to believe that water land cover (class 200) has zero population so you would want to give it a weight of “0”. You also may believe that people are five times as likely to live in built land cover (class 190) as compared to cultivated land cover (class 11) and twice as likely to live in cultivated land cover (class 11) as they are to live in forested land cover (class 40). Understanding that the lowest non-zero weight you can assign is “1”, you could then assign weights of 10, 2, and 1 to built, cultivated, and forest land cover, respectively.\n",
        "\n",
        "Now that you have decided the weights you desire to use, we are going to create our initial weighting layer. We need to first create our reclassification dictionary. A reclassification dictionary encodes original class number as a key and its weight as a value. You just need to fill in your selected weight values, where every `x` I’ve placed should be replaced with your chosen weight. Class numbers in the code are in the same order as the above table. NOTE: The sum of your weights should add to $1.0$!\n"
      ]
    },
    {
      "cell_type": "code",
      "execution_count": null,
      "id": "3f4c2075-8b4f-4e72-945e-266a39b74c6c",
      "metadata": {
        "vscode": {
          "languageId": "json"
        },
        "id": "3f4c2075-8b4f-4e72-945e-266a39b74c6c"
      },
      "outputs": [],
      "source": [
        "rcl_mat = {\n",
        "    11: x,\n",
        "    40: x,\n",
        "    130: x,\n",
        "    140: x,\n",
        "    160: x,\n",
        "    190: x,\n",
        "    200: x,\n",
        "    210: x,\n",
        "    240: x,\n",
        "}"
      ]
    },
    {
      "cell_type": "code",
      "execution_count": null,
      "id": "1b9bdf9d-ef69-4123-8b35-b31c94177cb5",
      "metadata": {
        "id": "1b9bdf9d-ef69-4123-8b35-b31c94177cb5"
      },
      "outputs": [],
      "source": [
        "rcl_mat = {\n",
        "    11: 0.04,\n",
        "    40: 0.06,\n",
        "    130: 0.02,\n",
        "    140: 0.03,\n",
        "    160: 0.0,\n",
        "    190: 0.65,\n",
        "    200: 0.01,\n",
        "    210: 0.0,\n",
        "    240: 0.19,\n",
        "}"
      ]
    },
    {
      "cell_type": "markdown",
      "id": "434a0a3f-5728-4b8c-b4d6-70d1d128a0c2",
      "metadata": {
        "id": "434a0a3f-5728-4b8c-b4d6-70d1d128a0c2"
      },
      "source": [
        "Now we can reclassify to get our weights raster by running the following:"
      ]
    },
    {
      "cell_type": "code",
      "execution_count": null,
      "id": "e6796f2d-c263-4799-81f5-f58e3e21458f",
      "metadata": {
        "id": "e6796f2d-c263-4799-81f5-f58e3e21458f"
      },
      "outputs": [],
      "source": [
        "lc_weight_ras = lc_ras.copy()\n",
        "for k, v in rcl_mat.items():\n",
        "    lc_weight_ras.values[lc_weight_ras.values==k] = v"
      ]
    },
    {
      "cell_type": "markdown",
      "id": "a9ae7c46-8196-47ea-adde-59f36569b8f3",
      "metadata": {
        "id": "a9ae7c46-8196-47ea-adde-59f36569b8f3"
      },
      "source": [
        "We'll create a new *projected* zonal raster since the one we made previously was *unprojected*.\n"
      ]
    },
    {
      "cell_type": "code",
      "execution_count": null,
      "id": "1b437ea6-cc68-4439-b21d-95890fa39841",
      "metadata": {
        "id": "1b437ea6-cc68-4439-b21d-95890fa39841"
      },
      "outputs": [],
      "source": [
        "shp_ras = make_geocube(pop_shp, like=lc_weight_ras, measurements=[\"ADMINID\", \"ADMINPOP\"])"
      ]
    },
    {
      "cell_type": "markdown",
      "id": "cb02fead-4969-4a49-8d0a-6823ba6b8a21",
      "metadata": {
        "id": "cb02fead-4969-4a49-8d0a-6823ba6b8a21"
      },
      "source": [
        "Like with the RF-based weighting layer, we now need to normalise this weighting layer by getting the sum of weights per admin unit, converting that to a raster, and then dividing by the sum. Type and execute the following to get the sum of weights:\n"
      ]
    },
    {
      "cell_type": "code",
      "execution_count": null,
      "id": "daf5ed67-bbb7-4880-9a36-d4e8314085a3",
      "metadata": {
        "id": "daf5ed67-bbb7-4880-9a36-d4e8314085a3"
      },
      "outputs": [],
      "source": [
        "weight_sum_table = lc_weight_ras.groupby(shp_ras[\"ADMINID\"].astype(int)).sum()"
      ]
    },
    {
      "cell_type": "markdown",
      "id": "e7ec0752-575a-44da-82f3-416889ffc18d",
      "metadata": {
        "id": "e7ec0752-575a-44da-82f3-416889ffc18d"
      },
      "source": [
        "First, let’s convert the matrix to a `pandas.DataFrame` and make the names line up for a join to the shapefile. Execute the following two lines one after the other:"
      ]
    },
    {
      "cell_type": "code",
      "execution_count": null,
      "id": "8f8b1873-0cb2-45fb-9f78-f92e77d9c6f5",
      "metadata": {
        "id": "8f8b1873-0cb2-45fb-9f78-f92e77d9c6f5"
      },
      "outputs": [],
      "source": [
        "weight_sum_table = weight_sum_table.to_dataframe(name=\"LCW_SUM\")"
      ]
    },
    {
      "cell_type": "markdown",
      "id": "89bc3346-4562-4715-ac6e-5d4a441fb3f3",
      "metadata": {
        "id": "89bc3346-4562-4715-ac6e-5d4a441fb3f3"
      },
      "source": [
        "We then join the data to the shapefile by the matching `ADMINID` value."
      ]
    },
    {
      "cell_type": "code",
      "execution_count": null,
      "id": "3d8ab146-c3c0-45ed-8c89-926b1fc65994",
      "metadata": {
        "id": "3d8ab146-c3c0-45ed-8c89-926b1fc65994"
      },
      "outputs": [],
      "source": [
        "pop_shp = pop_shp.merge(weight_sum_table[[\"LCW_SUM\"]], on=\"ADMINID\", how=\"left\")"
      ]
    },
    {
      "cell_type": "markdown",
      "id": "ec3ad5c9-d424-41cf-9b2f-2307bdff3adf",
      "metadata": {
        "id": "ec3ad5c9-d424-41cf-9b2f-2307bdff3adf"
      },
      "source": [
        "Check that the values have been transferred to the shapefile by calling:\n"
      ]
    },
    {
      "cell_type": "code",
      "execution_count": null,
      "id": "bc870782-4c08-4e0b-9cd9-06a3d8aa11fd",
      "metadata": {
        "id": "bc870782-4c08-4e0b-9cd9-06a3d8aa11fd",
        "outputId": "e2fac68d-39a5-4226-ad5a-a12819e53cf0"
      },
      "outputs": [
        {
          "data": {
            "text/plain": [
              "0    13.46\n",
              "1     5.62\n",
              "2     5.91\n",
              "3     1.90\n",
              "4    14.46\n",
              "Name: LCW_SUM, dtype: float64"
            ]
          },
          "execution_count": 49,
          "metadata": {},
          "output_type": "execute_result"
        }
      ],
      "source": [
        "pop_shp[\"LCW_SUM\"].head()"
      ]
    },
    {
      "cell_type": "markdown",
      "id": "b1dd5836-29cd-47d7-ab78-b40bcef745e7",
      "metadata": {
        "id": "b1dd5836-29cd-47d7-ab78-b40bcef745e7"
      },
      "source": [
        "Now we’ll turn those weight sums into a raster using `make_geocube()` again."
      ]
    },
    {
      "cell_type": "code",
      "execution_count": null,
      "id": "c4408efc-777d-480e-b379-73ab5651c36a",
      "metadata": {
        "id": "c4408efc-777d-480e-b379-73ab5651c36a"
      },
      "outputs": [],
      "source": [
        "weight_sum_ras = make_geocube(pop_shp, like=lc_weight_ras, measurements=[\"LCW_SUM\"])"
      ]
    },
    {
      "cell_type": "markdown",
      "id": "74e21660-223c-4e76-a13a-2f8b46c3f825",
      "metadata": {
        "id": "74e21660-223c-4e76-a13a-2f8b46c3f825"
      },
      "source": [
        "Normalise our land cover based weights:"
      ]
    },
    {
      "cell_type": "code",
      "execution_count": null,
      "id": "9a612539-222d-4b70-acb0-6d6a1b29e5d0",
      "metadata": {
        "id": "9a612539-222d-4b70-acb0-6d6a1b29e5d0"
      },
      "outputs": [],
      "source": [
        "lc_norm_weights = lc_weight_ras / weight_sum_ras[\"LCW_SUM\"].values"
      ]
    },
    {
      "cell_type": "markdown",
      "id": "a0937f60-543c-4d43-ab79-1ca5eaed1254",
      "metadata": {
        "id": "a0937f60-543c-4d43-ab79-1ca5eaed1254"
      },
      "source": [
        "We can now move to the final step of multiplying our population count raster by the weights."
      ]
    },
    {
      "cell_type": "code",
      "execution_count": null,
      "id": "4178d6ab-fcf3-4f4b-aa3a-5aada7cf5f16",
      "metadata": {
        "id": "4178d6ab-fcf3-4f4b-aa3a-5aada7cf5f16"
      },
      "outputs": [],
      "source": [
        "lc_disagg = lc_norm_weights * shp_ras[\"ADMINPOP\"].values"
      ]
    },
    {
      "cell_type": "markdown",
      "id": "032dce02-b5a7-4bc4-9d24-f15d1ab9ef9e",
      "metadata": {
        "id": "032dce02-b5a7-4bc4-9d24-f15d1ab9ef9e"
      },
      "source": [
        "Take a minute to plot and explore your dasymetrically redistributed population surface! Or save the `lc_disagg` object to a file (using the `lc_disagg.rio.to_raster(\"filename.tif\")` command) and open it up QGIS for an interactive exploration. If you desire, you can perform the aggregation check to make sure your population count sums up properly. Additionally, you can take the `RWA_ppp_manual_2002.tif` and `RWA_ppp_LC_manual_2002.tif` and subtract them using Raster Calculator type operations to examine how each disaggregation distributed the population counts differently."
      ]
    },
    {
      "cell_type": "code",
      "execution_count": null,
      "id": "9d41a2ed-e987-495a-99d8-41b31ad230e1",
      "metadata": {
        "id": "9d41a2ed-e987-495a-99d8-41b31ad230e1",
        "outputId": "482f3dc3-a2bf-4845-80fc-0df6c8185085"
      },
      "outputs": [
        {
          "data": {
            "text/plain": [
              "<matplotlib.collections.QuadMesh at 0x7fa443935c10>"
            ]
          },
          "execution_count": 53,
          "metadata": {},
          "output_type": "execute_result"
        },
        {
          "data": {
            "image/png": "[encoded data removed]",
            "text/plain": [
              "<Figure size 432x288 with 2 Axes>"
            ]
          },
          "metadata": {
            "needs_background": "light"
          },
          "output_type": "display_data"
        }
      ],
      "source": [
        "lc_disagg.plot()"
      ]
    },
    {
      "cell_type": "markdown",
      "id": "ac9cf053-2f98-44d0-bbff-72b2165e4353",
      "metadata": {
        "id": "ac9cf053-2f98-44d0-bbff-72b2165e4353"
      },
      "source": [
        "# Further Steps\n",
        "\n",
        "Now that you have the basics of how to create and post-process these types of data, try exploring other implementations of dasymetric disaggregation. Some things to possibly explore:\n",
        "\n",
        "- Utilise another statistical modelling method to create the dasymetric weights, e.g. artificial neural network [@Hopfield1988] using the `ann` package or generalised linear models [@Nelder1972] using the `glm` package in R.\n",
        "\n",
        "- Check dasymetric areal interpolation methods available in the `tobler` package in Python.\n",
        "\n",
        "- Read more on the limits of uncertainty in dasymetric modelling/disaggregation and one possible soultion in Nagle *et al.* [-@Nagle2014]\n",
        "\n",
        "- Find some census-based data at two different spatial resolutions, e.g. census tracts (admin. level 3), block groups (admin. level 4), and blocks (admin. level 5) from the US census Bureau. Model gridded population by creating your weights using the coarser data (e.g. admin level 3 and 4) and then use the boundaries and counts of the spatially finest data (admin level 5) to compare the errors that get introduced by modelling with different coarsenesses of input data. Note: good error measures for this are the mean absolute error (MAE) and the root mean square error (RMSE), but it is better to calculate them using population density rather than counts as the former adjusts for the area of each admin unit. See Gaughan *et al.* [-@Gaughan2014], Reed *et al.* [-@Reed2018], and Stevens *et al.* [-@Stevens2020] for more details of looking at the errors of modelled population.\n",
        "\n",
        "- Explore the [`popRF` package vignette](http://dx.doi.org/10.13140/RG.2.2.24822.93763) to see how you can quickly and easily construct your own random forest-informed gridded population datasets with an open online geospatial data library as well as your own input data using R."
      ]
    }
  ],
  "metadata": {
    "kernelspec": {
      "display_name": "Python 3 (ipykernel)",
      "language": "python",
      "name": "python3"
    },
    "language_info": {
      "codemirror_mode": {
        "name": "ipython",
        "version": 3
      },
      "file_extension": ".py",
      "mimetype": "text/x-python",
      "name": "python",
      "nbconvert_exporter": "python",
      "pygments_lexer": "ipython3",
      "version": "3.9.7"
    },
    "colab": {
      "name": "Python_version.ipynb",
      "provenance": [],
      "include_colab_link": true
    }
  },
  "nbformat": 4,
  "nbformat_minor": 5
}